{
 "cells": [
  {
   "cell_type": "markdown",
   "id": "5925abbd",
   "metadata": {},
   "source": [
    "Wszystkie algorytmy poniżej będą skupiały się na klasteryzacji"
   ]
  },
  {
   "cell_type": "markdown",
   "id": "04bab375",
   "metadata": {},
   "source": [
    "### KMeans"
   ]
  },
  {
   "cell_type": "code",
   "execution_count": 1,
   "id": "60a7b5ac",
   "metadata": {
    "ExecuteTime": {
     "end_time": "2022-06-23T08:45:57.113729Z",
     "start_time": "2022-06-23T08:45:55.161242Z"
    }
   },
   "outputs": [],
   "source": [
    "from sklearn.datasets import make_blobs\n",
    "from sklearn.cluster import KMeans, MiniBatchKMeans, MeanShift, estimate_bandwidth\n",
    "import matplotlib.pyplot as plt\n",
    "from sklearn.metrics.pairwise import pairwise_distances_argmin\n",
    "from sklearn.model_selection import train_test_split, GridSearchCV\n",
    "from sklearn.metrics import adjusted_mutual_info_score, adjusted_rand_score, completeness_score, fowlkes_mallows_score, homogeneity_score, mutual_info_score, normalized_mutual_info_score, rand_score, v_measure_score\n",
    "import sys\n",
    "from io import StringIO\n",
    "import numpy as np"
   ]
  },
  {
   "cell_type": "markdown",
   "id": "28cb9eb4",
   "metadata": {},
   "source": [
    "Przez to, że dane tworzone są za pomocą make_blobs, w którym podaje się środki klastrów, można przekazać znaną już z góry potrzebną liczbę klastrów. make_blobs zwraca także labele, do których należą punkty - dzięki temu można użyć między innymi hyperparameter tuning przy pomocy GridSearchCV, czy też przeprowadzić ewaluację na części testowej za pomocą metryk z sklearn.metrics dla klasteryzacji"
   ]
  },
  {
   "cell_type": "code",
   "execution_count": 2,
   "id": "794785eb",
   "metadata": {
    "ExecuteTime": {
     "end_time": "2022-06-23T08:45:57.129729Z",
     "start_time": "2022-06-23T08:45:57.114731Z"
    }
   },
   "outputs": [
    {
     "data": {
      "text/plain": [
       "array([[ 0.04840052, -0.60431296],\n",
       "       [-2.90377556, -1.76762122],\n",
       "       [ 0.76034237, -1.21721296],\n",
       "       ...,\n",
       "       [-0.63132708, -1.3974623 ],\n",
       "       [-1.47312419, -1.28925192],\n",
       "       [ 0.98895455,  0.65578892]])"
      ]
     },
     "execution_count": 2,
     "metadata": {},
     "output_type": "execute_result"
    }
   ],
   "source": [
    "centers = [[1, 1], [-1, -1], [1, -1]]\n",
    "n_clusters = len(centers)\n",
    "X, y = make_blobs(n_samples=3000, centers=centers, cluster_std=0.7, random_state=0)\n",
    "X"
   ]
  },
  {
   "cell_type": "code",
   "execution_count": 3,
   "id": "54a36cf6",
   "metadata": {
    "ExecuteTime": {
     "end_time": "2022-06-23T08:45:57.144729Z",
     "start_time": "2022-06-23T08:45:57.131732Z"
    }
   },
   "outputs": [
    {
     "data": {
      "text/plain": [
       "array([1, 1, 2, ..., 2, 1, 0])"
      ]
     },
     "execution_count": 3,
     "metadata": {},
     "output_type": "execute_result"
    }
   ],
   "source": [
    "y"
   ]
  },
  {
   "cell_type": "code",
   "execution_count": 4,
   "id": "48e8da83",
   "metadata": {
    "ExecuteTime": {
     "end_time": "2022-06-23T08:45:57.160729Z",
     "start_time": "2022-06-23T08:45:57.145731Z"
    }
   },
   "outputs": [],
   "source": [
    "X_train, X_test, y_train, y_test = train_test_split(X, y, test_size=0.3, random_state=1)"
   ]
  },
  {
   "cell_type": "markdown",
   "id": "97aa63e0",
   "metadata": {},
   "source": [
    "### KMeans"
   ]
  },
  {
   "cell_type": "code",
   "execution_count": 5,
   "id": "45c20f93",
   "metadata": {
    "ExecuteTime": {
     "end_time": "2022-06-23T08:45:57.175729Z",
     "start_time": "2022-06-23T08:45:57.162732Z"
    }
   },
   "outputs": [
    {
     "data": {
      "text/plain": [
       "{'algorithm': 'auto',\n",
       " 'copy_x': True,\n",
       " 'init': 'k-means++',\n",
       " 'max_iter': 300,\n",
       " 'n_clusters': 8,\n",
       " 'n_init': 10,\n",
       " 'random_state': None,\n",
       " 'tol': 0.0001,\n",
       " 'verbose': 0}"
      ]
     },
     "execution_count": 5,
     "metadata": {},
     "output_type": "execute_result"
    }
   ],
   "source": [
    "k_means = KMeans()\n",
    "k_means.get_params()"
   ]
  },
  {
   "cell_type": "code",
   "execution_count": 6,
   "id": "04009795",
   "metadata": {
    "ExecuteTime": {
     "end_time": "2022-06-23T08:45:57.785947Z",
     "start_time": "2022-06-23T08:45:57.176733Z"
    }
   },
   "outputs": [
    {
     "data": {
      "text/plain": [
       "{'algorithm': 'auto', 'n_clusters': 3}"
      ]
     },
     "execution_count": 6,
     "metadata": {},
     "output_type": "execute_result"
    }
   ],
   "source": [
    "hyperparams = {\n",
    "    'algorithm' : ('auto', 'elkan'), # auto to to samo co 'full' i 'lloyd'\n",
    "    'n_clusters' : [n_clusters]\n",
    "}\n",
    "grid = GridSearchCV(estimator=k_means, param_grid=hyperparams, cv=5)\n",
    "grid.fit(X_train, y_train)\n",
    "grid.best_params_"
   ]
  },
  {
   "cell_type": "code",
   "execution_count": 7,
   "id": "9e88d552",
   "metadata": {
    "ExecuteTime": {
     "end_time": "2022-06-23T08:45:57.801946Z",
     "start_time": "2022-06-23T08:45:57.786947Z"
    }
   },
   "outputs": [
    {
     "data": {
      "text/plain": [
       "{'algorithm': 'auto',\n",
       " 'copy_x': True,\n",
       " 'init': 'k-means++',\n",
       " 'max_iter': 300,\n",
       " 'n_clusters': 3,\n",
       " 'n_init': 10,\n",
       " 'random_state': 2,\n",
       " 'tol': 0.0001,\n",
       " 'verbose': True}"
      ]
     },
     "execution_count": 7,
     "metadata": {},
     "output_type": "execute_result"
    }
   ],
   "source": [
    "k_means = KMeans(**grid.best_params_, verbose=True, random_state=2)\n",
    "k_means.get_params()"
   ]
  },
  {
   "cell_type": "markdown",
   "id": "d84597f0",
   "metadata": {},
   "source": [
    "Inercja pełni w tym problemie rolę funkcji straty - dla KMeans hiperparametr n_init oznacza: \"Number of time the k-means algorithm will be run with different centroid seeds. The final results will be the best output of n_init consecutive runs in terms of inertia.\""
   ]
  },
  {
   "cell_type": "code",
   "execution_count": 8,
   "id": "2bd0ee08",
   "metadata": {
    "ExecuteTime": {
     "end_time": "2022-06-23T08:45:58.003945Z",
     "start_time": "2022-06-23T08:45:57.802947Z"
    }
   },
   "outputs": [
    {
     "name": "stdout",
     "output_type": "stream",
     "text": [
      "[(1, [2165.5318583457465, 1745.46628132057, 1705.9577843267084, 1701.1963258413825, 1699.0950744693791, 1698.7473768292152]), (2, [2827.861519466686, 1765.8679389908252, 1711.2556935624725, 1701.772133236283, 1699.2376484356396, 1698.7502094431732]), (3, [2521.5661890855795, 1770.9856764705125, 1712.1362647956798, 1701.7153228601019, 1699.696480990981, 1699.0255343510173, 1698.779754698294]), (4, [3151.046373003507, 1910.401950325246, 1742.1313813225368, 1709.1669910779528, 1700.8948310515627, 1699.6291333162949, 1698.9822346911933, 1698.7797546982945]), (5, [2678.6189769381076, 1713.3525025774914, 1699.6423486677384, 1698.9185582728473, 1698.7753025959978]), (6, [2706.29065723967, 1795.8145494583416, 1705.9539353570121, 1699.4464089959733, 1698.8728029877384]), (7, [2669.6769684059486, 2237.9175196641177, 1979.2568199054845, 1792.6969649902835, 1729.7416335733517, 1706.0469482977062, 1700.427849719725, 1698.872030908874, 1698.7493900718696]), (8, [3056.0833254941294, 2754.4518709047543, 2651.6169292627933, 2380.1516519448815, 2014.4550538868723, 1794.2371044024198, 1727.5190838275516, 1705.6135870832236, 1699.882967300391, 1698.8118425528844]), (9, [2429.064724185613, 1787.0218819077131, 1714.1585302404176, 1702.3394148701484, 1699.3458286760942, 1698.7728424055267])]\n"
     ]
    }
   ],
   "source": [
    "old_stdout = sys.stdout\n",
    "sys.stdout = mystdout = StringIO()\n",
    "\n",
    "k_means.fit(X_train)\n",
    "\n",
    "sys.stdout = old_stdout\n",
    "loss_history = mystdout.getvalue()\n",
    "loss_list = []\n",
    "run_number = 0\n",
    "iteration_results_in_run = []\n",
    "for line in loss_history.split('\\n'):\n",
    "    if 'Initialization complete' in line:\n",
    "        if run_number > 0:\n",
    "            loss_list.append((run_number, iteration_results_in_run))\n",
    "        run_number += 1\n",
    "        iteration_results_in_run = []\n",
    "        continue\n",
    "    line_split = line.split(\"inertia \")\n",
    "    if(len(line_split) == 1):\n",
    "        continue\n",
    "    else:\n",
    "        iteration_results_in_run.append(float(line_split[1]))\n",
    "\n",
    "print(loss_list)"
   ]
  },
  {
   "cell_type": "code",
   "execution_count": 9,
   "id": "2ba8b39e",
   "metadata": {
    "ExecuteTime": {
     "end_time": "2022-06-23T08:45:58.019945Z",
     "start_time": "2022-06-23T08:45:58.005948Z"
    }
   },
   "outputs": [],
   "source": [
    "k_means_cluster_centers = k_means.cluster_centers_\n",
    "k_means_labels = pairwise_distances_argmin(X_train, k_means_cluster_centers)"
   ]
  },
  {
   "cell_type": "code",
   "execution_count": 10,
   "id": "c0c51f1a",
   "metadata": {
    "ExecuteTime": {
     "end_time": "2022-06-23T08:45:58.034946Z",
     "start_time": "2022-06-23T08:45:58.020948Z"
    }
   },
   "outputs": [
    {
     "data": {
      "text/plain": [
       "array([[ 1.08173464, -1.056958  ],\n",
       "       [-1.07208796, -0.97097654],\n",
       "       [ 0.97532887,  1.01028562]])"
      ]
     },
     "execution_count": 10,
     "metadata": {},
     "output_type": "execute_result"
    }
   ],
   "source": [
    "k_means_cluster_centers"
   ]
  },
  {
   "cell_type": "code",
   "execution_count": 11,
   "id": "3790421b",
   "metadata": {
    "ExecuteTime": {
     "end_time": "2022-06-23T08:45:58.050946Z",
     "start_time": "2022-06-23T08:45:58.035946Z"
    }
   },
   "outputs": [
    {
     "data": {
      "text/plain": [
       "array([2, 1, 1, ..., 1, 2, 1], dtype=int64)"
      ]
     },
     "execution_count": 11,
     "metadata": {},
     "output_type": "execute_result"
    }
   ],
   "source": [
    "k_means_labels"
   ]
  },
  {
   "cell_type": "markdown",
   "id": "94ea2355",
   "metadata": {},
   "source": [
    "Inercja - \"Sum of distances of samples to their closest cluster center.\" - czyli strata mierzona odległością"
   ]
  },
  {
   "cell_type": "code",
   "execution_count": 12,
   "id": "c6f7c1e1",
   "metadata": {
    "ExecuteTime": {
     "end_time": "2022-06-23T08:45:58.159945Z",
     "start_time": "2022-06-23T08:45:58.051947Z"
    }
   },
   "outputs": [
    {
     "data": {
      "image/png": "[encoded data removed]",
      "text/plain": [
       "<Figure size 432x288 with 1 Axes>"
      ]
     },
     "metadata": {},
     "output_type": "display_data"
    }
   ],
   "source": [
    "# KMeans\n",
    "colors = [\"#4EACC5\", \"#FF9C34\", \"#4E9A06\"]\n",
    "\n",
    "for k, color in zip(range(n_clusters), colors):\n",
    "    my_members = k_means_labels == k\n",
    "    cluster_center = k_means_cluster_centers[k]\n",
    "    plt.plot(X_train[my_members, 0], X_train[my_members, 1], \"w\", markerfacecolor=color, marker=\".\")\n",
    "    plt.plot(\n",
    "        cluster_center[0],\n",
    "        cluster_center[1],\n",
    "        \"o\",\n",
    "        markerfacecolor=color,\n",
    "        markeredgecolor=\"k\",\n",
    "        markersize=6,\n",
    "    )\n",
    "plt.title(\"Trening KMeans\")\n",
    "plt.xticks(())\n",
    "plt.yticks(())\n",
    "plt.text(-3.5, 1.8, \"inercja: %f\" % (k_means.inertia_))\n",
    "\n",
    "plt.show()"
   ]
  },
  {
   "cell_type": "code",
   "execution_count": 13,
   "id": "14b30bc5",
   "metadata": {
    "ExecuteTime": {
     "end_time": "2022-06-23T08:45:58.221948Z",
     "start_time": "2022-06-23T08:45:58.160947Z"
    }
   },
   "outputs": [
    {
     "data": {
      "image/png": "[encoded data removed]",
      "text/plain": [
       "<Figure size 432x288 with 1 Axes>"
      ]
     },
     "metadata": {},
     "output_type": "display_data"
    }
   ],
   "source": [
    "y_pred = k_means.predict(X_test)\n",
    "k_means_labels = pairwise_distances_argmin(X_test, k_means_cluster_centers)\n",
    "\n",
    "for k, color in zip(range(n_clusters), colors):\n",
    "    my_members = k_means_labels == k\n",
    "    cluster_center = k_means_cluster_centers[k]\n",
    "    plt.plot(X_test[my_members, 0], X_test[my_members, 1], \"w\", markerfacecolor=color, marker=\".\")\n",
    "    plt.plot(\n",
    "        cluster_center[0],\n",
    "        cluster_center[1],\n",
    "        \"o\",\n",
    "        markerfacecolor=color,\n",
    "        markeredgecolor=\"k\",\n",
    "        markersize=6,\n",
    "    )\n",
    "plt.title(\"Test KMeans\")\n",
    "plt.xticks(())\n",
    "plt.yticks(())\n",
    "plt.text(-3, 1.8, \"inercja: %f\" % (k_means.inertia_))\n",
    "\n",
    "plt.show()"
   ]
  },
  {
   "cell_type": "code",
   "execution_count": 14,
   "id": "d6d80ce7",
   "metadata": {
    "ExecuteTime": {
     "end_time": "2022-06-23T08:45:58.237945Z",
     "start_time": "2022-06-23T08:45:58.222948Z"
    }
   },
   "outputs": [
    {
     "name": "stdout",
     "output_type": "stream",
     "text": [
      "0\n",
      "1698.7473768292152\n"
     ]
    }
   ],
   "source": [
    "lowest_inertia_idx = 0\n",
    "lowest_inertia = min(loss_list[0][1])\n",
    "for loss_list_item in loss_list:\n",
    "    if (min(loss_list_item[1]) < lowest_inertia):\n",
    "        lowest_inertia = min(loss_list_item[1])\n",
    "        lowest_inertia_idx = loss_list_item[0]\n",
    "print(lowest_inertia_idx)\n",
    "print(lowest_inertia)"
   ]
  },
  {
   "cell_type": "markdown",
   "id": "1f0ce131",
   "metadata": {},
   "source": [
    "Pierwszy przebieg dla KMeans ma najmniejszą inercję, a według opisu hiperparametru n_init to właśnie ten przebieg zostanie finalnie wybrany"
   ]
  },
  {
   "cell_type": "code",
   "execution_count": 15,
   "id": "191b4c0b",
   "metadata": {
    "ExecuteTime": {
     "end_time": "2022-06-23T08:45:58.331946Z",
     "start_time": "2022-06-23T08:45:58.238947Z"
    }
   },
   "outputs": [
    {
     "data": {
      "image/png": "[encoded data removed]",
      "text/plain": [
       "<Figure size 432x288 with 1 Axes>"
      ]
     },
     "metadata": {
      "needs_background": "light"
     },
     "output_type": "display_data"
    }
   ],
   "source": [
    "plt.plot(np.arange(1, len(loss_list[lowest_inertia_idx][1]) + 1, 1), loss_list[lowest_inertia_idx][1])\n",
    "plt.xlabel('Przebieg KMeans')\n",
    "plt.ylabel('Inercja')\n",
    "plt.title('Strata')\n",
    "plt.grid()\n",
    "plt.show()"
   ]
  },
  {
   "cell_type": "code",
   "execution_count": 16,
   "id": "dd18ef8a",
   "metadata": {
    "ExecuteTime": {
     "end_time": "2022-06-23T08:45:58.363945Z",
     "start_time": "2022-06-23T08:45:58.332947Z"
    }
   },
   "outputs": [
    {
     "name": "stdout",
     "output_type": "stream",
     "text": [
      "adjusted_mutual_info_score:  0.6366483550509823\n",
      "adjusted_rand_score:  0.6957528276705703\n",
      "completeness_score:  0.637205522388481\n",
      "fowlkes_mallows_score:  0.7971551218924826\n",
      "homogeneity_score:  0.6375670447827\n",
      "mutual_info_score:  0.699570741676919\n",
      "normalized_mutual_info_score:  0.6373862323221554\n",
      "rand_score:  0.8647880360894822\n",
      "v_measure_score:  0.6373862323221553\n"
     ]
    }
   ],
   "source": [
    "print('adjusted_mutual_info_score: ' , adjusted_mutual_info_score(y_test, y_pred))\n",
    "print('adjusted_rand_score: ' , adjusted_rand_score(y_test, y_pred))\n",
    "print('completeness_score: ' , completeness_score(y_test, y_pred))\n",
    "print('fowlkes_mallows_score: ' , fowlkes_mallows_score(y_test, y_pred))\n",
    "print('homogeneity_score: ' , homogeneity_score(y_test, y_pred))\n",
    "print('mutual_info_score: ' , mutual_info_score(y_test, y_pred))\n",
    "print('normalized_mutual_info_score: ' , normalized_mutual_info_score(y_test, y_pred))\n",
    "print('rand_score: ' , rand_score(y_test, y_pred))\n",
    "print('v_measure_score: ' , v_measure_score(y_test, y_pred))"
   ]
  },
  {
   "cell_type": "markdown",
   "id": "025eb8ce",
   "metadata": {},
   "source": [
    "### MiniBatchKMeans"
   ]
  },
  {
   "cell_type": "code",
   "execution_count": 17,
   "id": "2e6569fc",
   "metadata": {
    "ExecuteTime": {
     "end_time": "2022-06-23T08:45:58.379945Z",
     "start_time": "2022-06-23T08:45:58.364946Z"
    }
   },
   "outputs": [
    {
     "data": {
      "text/plain": [
       "{'batch_size': 1024,\n",
       " 'compute_labels': True,\n",
       " 'init': 'k-means++',\n",
       " 'init_size': None,\n",
       " 'max_iter': 100,\n",
       " 'max_no_improvement': 10,\n",
       " 'n_clusters': 8,\n",
       " 'n_init': 3,\n",
       " 'random_state': None,\n",
       " 'reassignment_ratio': 0.01,\n",
       " 'tol': 0.0,\n",
       " 'verbose': 0}"
      ]
     },
     "execution_count": 17,
     "metadata": {},
     "output_type": "execute_result"
    }
   ],
   "source": [
    "minibatch_k_means = MiniBatchKMeans()\n",
    "minibatch_k_means.get_params()"
   ]
  },
  {
   "cell_type": "code",
   "execution_count": 18,
   "id": "801bf271",
   "metadata": {
    "ExecuteTime": {
     "end_time": "2022-06-23T08:45:58.997947Z",
     "start_time": "2022-06-23T08:45:58.380945Z"
    }
   },
   "outputs": [
    {
     "name": "stderr",
     "output_type": "stream",
     "text": [
      "C:\\Users\\mcham\\anaconda3\\envs\\tf-gpu-280\\lib\\site-packages\\sklearn\\cluster\\_kmeans.py:1043: UserWarning: MiniBatchKMeans is known to have a memory leak on Windows with MKL, when there are less chunks than available threads. You can prevent it by setting batch_size >= 3072 or by setting the environment variable OMP_NUM_THREADS=1\n",
      "  warnings.warn(\n",
      "C:\\Users\\mcham\\anaconda3\\envs\\tf-gpu-280\\lib\\site-packages\\sklearn\\cluster\\_kmeans.py:1043: UserWarning: MiniBatchKMeans is known to have a memory leak on Windows with MKL, when there are less chunks than available threads. You can prevent it by setting batch_size >= 3072 or by setting the environment variable OMP_NUM_THREADS=1\n",
      "  warnings.warn(\n",
      "C:\\Users\\mcham\\anaconda3\\envs\\tf-gpu-280\\lib\\site-packages\\sklearn\\cluster\\_kmeans.py:1043: UserWarning: MiniBatchKMeans is known to have a memory leak on Windows with MKL, when there are less chunks than available threads. You can prevent it by setting batch_size >= 3072 or by setting the environment variable OMP_NUM_THREADS=1\n",
      "  warnings.warn(\n",
      "C:\\Users\\mcham\\anaconda3\\envs\\tf-gpu-280\\lib\\site-packages\\sklearn\\cluster\\_kmeans.py:1043: UserWarning: MiniBatchKMeans is known to have a memory leak on Windows with MKL, when there are less chunks than available threads. You can prevent it by setting batch_size >= 3072 or by setting the environment variable OMP_NUM_THREADS=1\n",
      "  warnings.warn(\n",
      "C:\\Users\\mcham\\anaconda3\\envs\\tf-gpu-280\\lib\\site-packages\\sklearn\\cluster\\_kmeans.py:1043: UserWarning: MiniBatchKMeans is known to have a memory leak on Windows with MKL, when there are less chunks than available threads. You can prevent it by setting batch_size >= 3072 or by setting the environment variable OMP_NUM_THREADS=1\n",
      "  warnings.warn(\n",
      "C:\\Users\\mcham\\anaconda3\\envs\\tf-gpu-280\\lib\\site-packages\\sklearn\\cluster\\_kmeans.py:1043: UserWarning: MiniBatchKMeans is known to have a memory leak on Windows with MKL, when there are less chunks than available threads. You can prevent it by setting batch_size >= 3072 or by setting the environment variable OMP_NUM_THREADS=1\n",
      "  warnings.warn(\n",
      "C:\\Users\\mcham\\anaconda3\\envs\\tf-gpu-280\\lib\\site-packages\\sklearn\\cluster\\_kmeans.py:1043: UserWarning: MiniBatchKMeans is known to have a memory leak on Windows with MKL, when there are less chunks than available threads. You can prevent it by setting batch_size >= 3072 or by setting the environment variable OMP_NUM_THREADS=1\n",
      "  warnings.warn(\n",
      "C:\\Users\\mcham\\anaconda3\\envs\\tf-gpu-280\\lib\\site-packages\\sklearn\\cluster\\_kmeans.py:1043: UserWarning: MiniBatchKMeans is known to have a memory leak on Windows with MKL, when there are less chunks than available threads. You can prevent it by setting batch_size >= 3072 or by setting the environment variable OMP_NUM_THREADS=1\n",
      "  warnings.warn(\n",
      "C:\\Users\\mcham\\anaconda3\\envs\\tf-gpu-280\\lib\\site-packages\\sklearn\\cluster\\_kmeans.py:1043: UserWarning: MiniBatchKMeans is known to have a memory leak on Windows with MKL, when there are less chunks than available threads. You can prevent it by setting batch_size >= 3072 or by setting the environment variable OMP_NUM_THREADS=1\n",
      "  warnings.warn(\n",
      "C:\\Users\\mcham\\anaconda3\\envs\\tf-gpu-280\\lib\\site-packages\\sklearn\\cluster\\_kmeans.py:1043: UserWarning: MiniBatchKMeans is known to have a memory leak on Windows with MKL, when there are less chunks than available threads. You can prevent it by setting batch_size >= 3072 or by setting the environment variable OMP_NUM_THREADS=1\n",
      "  warnings.warn(\n",
      "C:\\Users\\mcham\\anaconda3\\envs\\tf-gpu-280\\lib\\site-packages\\sklearn\\cluster\\_kmeans.py:1043: UserWarning: MiniBatchKMeans is known to have a memory leak on Windows with MKL, when there are less chunks than available threads. You can prevent it by setting batch_size >= 3072 or by setting the environment variable OMP_NUM_THREADS=2\n",
      "  warnings.warn(\n",
      "C:\\Users\\mcham\\anaconda3\\envs\\tf-gpu-280\\lib\\site-packages\\sklearn\\cluster\\_kmeans.py:1043: UserWarning: MiniBatchKMeans is known to have a memory leak on Windows with MKL, when there are less chunks than available threads. You can prevent it by setting batch_size >= 3072 or by setting the environment variable OMP_NUM_THREADS=2\n",
      "  warnings.warn(\n",
      "C:\\Users\\mcham\\anaconda3\\envs\\tf-gpu-280\\lib\\site-packages\\sklearn\\cluster\\_kmeans.py:1043: UserWarning: MiniBatchKMeans is known to have a memory leak on Windows with MKL, when there are less chunks than available threads. You can prevent it by setting batch_size >= 3072 or by setting the environment variable OMP_NUM_THREADS=2\n",
      "  warnings.warn(\n",
      "C:\\Users\\mcham\\anaconda3\\envs\\tf-gpu-280\\lib\\site-packages\\sklearn\\cluster\\_kmeans.py:1043: UserWarning: MiniBatchKMeans is known to have a memory leak on Windows with MKL, when there are less chunks than available threads. You can prevent it by setting batch_size >= 3072 or by setting the environment variable OMP_NUM_THREADS=2\n",
      "  warnings.warn(\n",
      "C:\\Users\\mcham\\anaconda3\\envs\\tf-gpu-280\\lib\\site-packages\\sklearn\\cluster\\_kmeans.py:1043: UserWarning: MiniBatchKMeans is known to have a memory leak on Windows with MKL, when there are less chunks than available threads. You can prevent it by setting batch_size >= 3072 or by setting the environment variable OMP_NUM_THREADS=2\n",
      "  warnings.warn(\n",
      "C:\\Users\\mcham\\anaconda3\\envs\\tf-gpu-280\\lib\\site-packages\\sklearn\\cluster\\_kmeans.py:1043: UserWarning: MiniBatchKMeans is known to have a memory leak on Windows with MKL, when there are less chunks than available threads. You can prevent it by setting batch_size >= 3072 or by setting the environment variable OMP_NUM_THREADS=4\n",
      "  warnings.warn(\n",
      "C:\\Users\\mcham\\anaconda3\\envs\\tf-gpu-280\\lib\\site-packages\\sklearn\\cluster\\_kmeans.py:1043: UserWarning: MiniBatchKMeans is known to have a memory leak on Windows with MKL, when there are less chunks than available threads. You can prevent it by setting batch_size >= 3072 or by setting the environment variable OMP_NUM_THREADS=4\n",
      "  warnings.warn(\n",
      "C:\\Users\\mcham\\anaconda3\\envs\\tf-gpu-280\\lib\\site-packages\\sklearn\\cluster\\_kmeans.py:1043: UserWarning: MiniBatchKMeans is known to have a memory leak on Windows with MKL, when there are less chunks than available threads. You can prevent it by setting batch_size >= 3072 or by setting the environment variable OMP_NUM_THREADS=4\n",
      "  warnings.warn(\n",
      "C:\\Users\\mcham\\anaconda3\\envs\\tf-gpu-280\\lib\\site-packages\\sklearn\\cluster\\_kmeans.py:1043: UserWarning: MiniBatchKMeans is known to have a memory leak on Windows with MKL, when there are less chunks than available threads. You can prevent it by setting batch_size >= 3072 or by setting the environment variable OMP_NUM_THREADS=4\n",
      "  warnings.warn(\n",
      "C:\\Users\\mcham\\anaconda3\\envs\\tf-gpu-280\\lib\\site-packages\\sklearn\\cluster\\_kmeans.py:1043: UserWarning: MiniBatchKMeans is known to have a memory leak on Windows with MKL, when there are less chunks than available threads. You can prevent it by setting batch_size >= 3072 or by setting the environment variable OMP_NUM_THREADS=4\n",
      "  warnings.warn(\n",
      "C:\\Users\\mcham\\anaconda3\\envs\\tf-gpu-280\\lib\\site-packages\\sklearn\\cluster\\_kmeans.py:1043: UserWarning: MiniBatchKMeans is known to have a memory leak on Windows with MKL, when there are less chunks than available threads. You can prevent it by setting batch_size >= 3072 or by setting the environment variable OMP_NUM_THREADS=4\n",
      "  warnings.warn(\n"
     ]
    },
    {
     "data": {
      "text/plain": [
       "{'batch_size': 1024, 'max_no_improvement': 3}"
      ]
     },
     "execution_count": 18,
     "metadata": {},
     "output_type": "execute_result"
    }
   ],
   "source": [
    "hyperparams = {\n",
    "    'batch_size' : [128, 256, 512, 1024],\n",
    "    'max_no_improvement' : [3]\n",
    "}\n",
    "grid = GridSearchCV(estimator=minibatch_k_means, param_grid=hyperparams, cv=5)\n",
    "grid.fit(X_train, y_train)\n",
    "grid.best_params_"
   ]
  },
  {
   "cell_type": "code",
   "execution_count": 19,
   "id": "e711e77b",
   "metadata": {
    "ExecuteTime": {
     "end_time": "2022-06-23T08:45:59.013946Z",
     "start_time": "2022-06-23T08:45:58.998947Z"
    }
   },
   "outputs": [
    {
     "data": {
      "text/plain": [
       "{'batch_size': 1024,\n",
       " 'compute_labels': True,\n",
       " 'init': 'k-means++',\n",
       " 'init_size': None,\n",
       " 'max_iter': 100,\n",
       " 'max_no_improvement': 3,\n",
       " 'n_clusters': 8,\n",
       " 'n_init': 3,\n",
       " 'random_state': 3,\n",
       " 'reassignment_ratio': 0.01,\n",
       " 'tol': 0.0,\n",
       " 'verbose': True}"
      ]
     },
     "execution_count": 19,
     "metadata": {},
     "output_type": "execute_result"
    }
   ],
   "source": [
    "minibatch_k_means = MiniBatchKMeans(**grid.best_params_, random_state=3, verbose=True)\n",
    "minibatch_k_means.get_params()"
   ]
  },
  {
   "cell_type": "code",
   "execution_count": 20,
   "id": "0aa13c64",
   "metadata": {
    "ExecuteTime": {
     "end_time": "2022-06-23T08:45:59.060945Z",
     "start_time": "2022-06-23T08:45:59.015947Z"
    }
   },
   "outputs": [
    {
     "name": "stdout",
     "output_type": "stream",
     "text": [
      "[0.4067987056788396, 0.3816613195698396, 0.3722546411567925, 0.3900803814288966, 0.3890115230788304, 0.37052348128100276, 0.3719731166268916, 0.36462763232830153, 0.36891678610403983, 0.37212229225415805, 0.39372088988055354]\n"
     ]
    },
    {
     "name": "stderr",
     "output_type": "stream",
     "text": [
      "C:\\Users\\mcham\\anaconda3\\envs\\tf-gpu-280\\lib\\site-packages\\sklearn\\cluster\\_kmeans.py:1043: UserWarning: MiniBatchKMeans is known to have a memory leak on Windows with MKL, when there are less chunks than available threads. You can prevent it by setting batch_size >= 3072 or by setting the environment variable OMP_NUM_THREADS=4\n",
      "  warnings.warn(\n"
     ]
    }
   ],
   "source": [
    "old_stdout = sys.stdout\n",
    "sys.stdout = mystdout = StringIO()\n",
    "\n",
    "minibatch_k_means.fit(X_train)\n",
    "\n",
    "sys.stdout = old_stdout\n",
    "loss_history = mystdout.getvalue()\n",
    "mean_batch_inertia_list = []\n",
    "minibatch_step = 0\n",
    "iteration_results_in_run = []\n",
    "for line in loss_history.split('\\n'):\n",
    "    if 'Minibatch step' not in line:\n",
    "        continue\n",
    "    else:\n",
    "        if ',' in line:\n",
    "            line_split = line.split(',')\n",
    "            mean_batch_inertia = line_split[0].split('mean batch inertia: ')[1]\n",
    "        else:\n",
    "            mean_batch_inertia = line.split('mean batch inertia: ')[1]\n",
    "        mean_batch_inertia_list.append(float(mean_batch_inertia))\n",
    "\n",
    "print(mean_batch_inertia_list)"
   ]
  },
  {
   "cell_type": "code",
   "execution_count": 21,
   "id": "ec4d6123",
   "metadata": {
    "ExecuteTime": {
     "end_time": "2022-06-23T08:45:59.075945Z",
     "start_time": "2022-06-23T08:45:59.061948Z"
    }
   },
   "outputs": [],
   "source": [
    "minibatch_k_means_cluster_centers = minibatch_k_means.cluster_centers_\n",
    "minibatch_k_means_labels = pairwise_distances_argmin(X_train, minibatch_k_means_cluster_centers)"
   ]
  },
  {
   "cell_type": "code",
   "execution_count": 22,
   "id": "51474a25",
   "metadata": {
    "ExecuteTime": {
     "end_time": "2022-06-23T08:45:59.138948Z",
     "start_time": "2022-06-23T08:45:59.077947Z"
    }
   },
   "outputs": [
    {
     "data": {
      "image/png": "[encoded data removed]",
      "text/plain": [
       "<Figure size 432x288 with 1 Axes>"
      ]
     },
     "metadata": {},
     "output_type": "display_data"
    }
   ],
   "source": [
    "# Mini Batch KMeans\n",
    "colors = [\"#4EACC5\", \"#FF9C34\", \"#4E9A06\"]\n",
    "\n",
    "for k, color in zip(range(n_clusters), colors):\n",
    "    my_members = minibatch_k_means_labels == k\n",
    "    cluster_center = minibatch_k_means_cluster_centers[k]\n",
    "    plt.plot(X_train[my_members, 0], X_train[my_members, 1], \"w\", markerfacecolor=color, marker=\".\")\n",
    "    plt.plot(\n",
    "        cluster_center[0],\n",
    "        cluster_center[1],\n",
    "        \"o\",\n",
    "        markerfacecolor=color,\n",
    "        markeredgecolor=\"k\",\n",
    "        markersize=6,\n",
    "    )\n",
    "plt.title(\"Trening Mini Batch KMeans\")\n",
    "plt.xticks(())\n",
    "plt.yticks(())\n",
    "plt.text(-3, 1.8, \"inercja: %f\" % (minibatch_k_means.inertia_))\n",
    "\n",
    "plt.show()"
   ]
  },
  {
   "cell_type": "code",
   "execution_count": 23,
   "id": "98cc3586",
   "metadata": {
    "ExecuteTime": {
     "end_time": "2022-06-23T08:45:59.201947Z",
     "start_time": "2022-06-23T08:45:59.139947Z"
    }
   },
   "outputs": [
    {
     "data": {
      "image/png": "[encoded data removed]",
      "text/plain": [
       "<Figure size 432x288 with 1 Axes>"
      ]
     },
     "metadata": {},
     "output_type": "display_data"
    }
   ],
   "source": [
    "y_pred = minibatch_k_means.predict(X_test)\n",
    "minibatch_k_means_labels = pairwise_distances_argmin(X_test, minibatch_k_means_cluster_centers)\n",
    "\n",
    "for k, color in zip(range(n_clusters), colors):\n",
    "    my_members = minibatch_k_means_labels == k\n",
    "    cluster_center = minibatch_k_means_cluster_centers[k]\n",
    "    plt.plot(X_test[my_members, 0], X_test[my_members, 1], \"w\", markerfacecolor=color, marker=\".\")\n",
    "    plt.plot(\n",
    "        cluster_center[0],\n",
    "        cluster_center[1],\n",
    "        \"o\",\n",
    "        markerfacecolor=color,\n",
    "        markeredgecolor=\"k\",\n",
    "        markersize=6,\n",
    "    )\n",
    "plt.title(\"Test Mini Batch KMeans\")\n",
    "plt.xticks(())\n",
    "plt.yticks(())\n",
    "plt.text(-3, 1.8, \"inercja: %f\" % (minibatch_k_means.inertia_))\n",
    "\n",
    "plt.show()"
   ]
  },
  {
   "cell_type": "code",
   "execution_count": 24,
   "id": "14a3ad6a",
   "metadata": {
    "ExecuteTime": {
     "end_time": "2022-06-23T08:45:59.340946Z",
     "start_time": "2022-06-23T08:45:59.202946Z"
    }
   },
   "outputs": [
    {
     "data": {
      "image/png": "[encoded data removed]",
      "text/plain": [
       "<Figure size 432x288 with 1 Axes>"
      ]
     },
     "metadata": {
      "needs_background": "light"
     },
     "output_type": "display_data"
    }
   ],
   "source": [
    "plt.plot(np.arange(1, len(mean_batch_inertia_list) + 1, 1), mean_batch_inertia_list)\n",
    "plt.xlabel('Przebieg Mini Batch KMeans')\n",
    "plt.ylabel('Mean Batch Inercja')\n",
    "plt.title('Strata')\n",
    "plt.grid()\n",
    "plt.show()"
   ]
  },
  {
   "cell_type": "code",
   "execution_count": 25,
   "id": "33070179",
   "metadata": {
    "ExecuteTime": {
     "end_time": "2022-06-23T08:45:59.356946Z",
     "start_time": "2022-06-23T08:45:59.341947Z"
    }
   },
   "outputs": [
    {
     "name": "stdout",
     "output_type": "stream",
     "text": [
      "adjusted_mutual_info_score:  0.4670199857686961\n",
      "adjusted_rand_score:  0.29990378647035343\n",
      "completeness_score:  0.35922315598765364\n",
      "fowlkes_mallows_score:  0.47963551145883854\n",
      "homogeneity_score:  0.6781211386388375\n",
      "mutual_info_score:  0.7440687403566388\n",
      "normalized_mutual_info_score:  0.46965470736308335\n",
      "rand_score:  0.7371474477814856\n",
      "v_measure_score:  0.46965470736308335\n"
     ]
    }
   ],
   "source": [
    "print('adjusted_mutual_info_score: ' , adjusted_mutual_info_score(y_test, y_pred))\n",
    "print('adjusted_rand_score: ' , adjusted_rand_score(y_test, y_pred))\n",
    "print('completeness_score: ' , completeness_score(y_test, y_pred))\n",
    "print('fowlkes_mallows_score: ' , fowlkes_mallows_score(y_test, y_pred))\n",
    "print('homogeneity_score: ' , homogeneity_score(y_test, y_pred))\n",
    "print('mutual_info_score: ' , mutual_info_score(y_test, y_pred))\n",
    "print('normalized_mutual_info_score: ' , normalized_mutual_info_score(y_test, y_pred))\n",
    "print('rand_score: ' , rand_score(y_test, y_pred))\n",
    "print('v_measure_score: ' , v_measure_score(y_test, y_pred))"
   ]
  },
  {
   "cell_type": "markdown",
   "id": "9b999ee3",
   "metadata": {},
   "source": [
    "### AffinityPropagation"
   ]
  },
  {
   "cell_type": "code",
   "execution_count": 26,
   "id": "7c488221",
   "metadata": {
    "ExecuteTime": {
     "end_time": "2022-06-23T08:45:59.372945Z",
     "start_time": "2022-06-23T08:45:59.357947Z"
    }
   },
   "outputs": [
    {
     "data": {
      "text/plain": [
       "{'bandwidth': None,\n",
       " 'bin_seeding': False,\n",
       " 'cluster_all': True,\n",
       " 'max_iter': 300,\n",
       " 'min_bin_freq': 1,\n",
       " 'n_jobs': None,\n",
       " 'seeds': None}"
      ]
     },
     "execution_count": 26,
     "metadata": {},
     "output_type": "execute_result"
    }
   ],
   "source": [
    "mean_shift = MeanShift()\n",
    "mean_shift.get_params()"
   ]
  },
  {
   "cell_type": "markdown",
   "id": "b4e17f86",
   "metadata": {},
   "source": [
    "Hiperparametry MeanShift takie jak bandwidth czy seeds są domyślnie obliczane za pomocą specjalnych metod. Poza tym, reszta odpowiada za szybkość algorytmu - dlatego zrezygnowano z szukania najlepszej kombinacji w tym przypadku"
   ]
  },
  {
   "cell_type": "code",
   "execution_count": 27,
   "id": "d19fc403",
   "metadata": {
    "ExecuteTime": {
     "end_time": "2022-06-23T08:45:59.608945Z",
     "start_time": "2022-06-23T08:45:59.375945Z"
    }
   },
   "outputs": [
    {
     "data": {
      "text/plain": [
       "MeanShift(bandwidth=1.0880084177499902, bin_seeding=True)"
      ]
     },
     "execution_count": 27,
     "metadata": {},
     "output_type": "execute_result"
    }
   ],
   "source": [
    "bandwidth = estimate_bandwidth(X_train, quantile=0.2, n_samples=150)\n",
    "mean_shift = MeanShift(bandwidth=bandwidth, bin_seeding=True)\n",
    "\n",
    "mean_shift.fit(X_train)"
   ]
  },
  {
   "cell_type": "code",
   "execution_count": 28,
   "id": "ef685050",
   "metadata": {
    "ExecuteTime": {
     "end_time": "2022-06-23T08:45:59.670945Z",
     "start_time": "2022-06-23T08:45:59.609968Z"
    }
   },
   "outputs": [
    {
     "data": {
      "image/png": "[encoded data removed]",
      "text/plain": [
       "<Figure size 432x288 with 1 Axes>"
      ]
     },
     "metadata": {},
     "output_type": "display_data"
    }
   ],
   "source": [
    "mean_shift_cluster_centers = mean_shift.cluster_centers_\n",
    "mean_shift_labels = pairwise_distances_argmin(X_train, mean_shift_cluster_centers)\n",
    "\n",
    "colors = [\"#4EACC5\", \"#FF9C34\", \"#4E9A06\"]\n",
    "\n",
    "for k, color in zip(range(n_clusters), colors):\n",
    "    my_members = mean_shift_labels == k\n",
    "    cluster_center = mean_shift_cluster_centers[k]\n",
    "    plt.plot(X_train[my_members, 0], X_train[my_members, 1], \"w\", markerfacecolor=color, marker=\".\")\n",
    "    plt.plot(\n",
    "        cluster_center[0],\n",
    "        cluster_center[1],\n",
    "        \"o\",\n",
    "        markerfacecolor=color,\n",
    "        markeredgecolor=\"k\",\n",
    "        markersize=6,\n",
    "    )\n",
    "plt.title(\"Trening MeanShift\")\n",
    "plt.xticks(())\n",
    "plt.yticks(())\n",
    "\n",
    "plt.show()"
   ]
  },
  {
   "cell_type": "code",
   "execution_count": 29,
   "id": "22af8e90",
   "metadata": {
    "ExecuteTime": {
     "end_time": "2022-06-23T08:45:59.731945Z",
     "start_time": "2022-06-23T08:45:59.671947Z"
    }
   },
   "outputs": [
    {
     "name": "stdout",
     "output_type": "stream",
     "text": [
      "Oszacowana liczba klastrów:  3\n"
     ]
    },
    {
     "data": {
      "image/png": "[encoded data removed]",
      "text/plain": [
       "<Figure size 432x288 with 1 Axes>"
      ]
     },
     "metadata": {},
     "output_type": "display_data"
    }
   ],
   "source": [
    "y_pred = mean_shift.predict(X_test)\n",
    "mean_shift_labels = pairwise_distances_argmin(X_test, mean_shift_cluster_centers)\n",
    "print(\"Oszacowana liczba klastrów: \", len(np.unique(mean_shift_labels)))\n",
    "\n",
    "for k, color in zip(range(n_clusters), colors):\n",
    "    my_members = mean_shift_labels == k\n",
    "    cluster_center = mean_shift_cluster_centers[k]\n",
    "    plt.plot(X_test[my_members, 0], X_test[my_members, 1], \"w\", markerfacecolor=color, marker=\".\")\n",
    "    plt.plot(\n",
    "        cluster_center[0],\n",
    "        cluster_center[1],\n",
    "        \"o\",\n",
    "        markerfacecolor=color,\n",
    "        markeredgecolor=\"k\",\n",
    "        markersize=6,\n",
    "    )\n",
    "plt.title(\"Test MeanShift\")\n",
    "plt.xticks(())\n",
    "plt.yticks(())\n",
    "\n",
    "plt.show()"
   ]
  },
  {
   "cell_type": "markdown",
   "id": "9e315dce",
   "metadata": {},
   "source": [
    "Dla MeanShift nie ma opcji zobaczenia przebiegu funkcji straty"
   ]
  },
  {
   "cell_type": "code",
   "execution_count": 30,
   "id": "f71b8e5d",
   "metadata": {
    "ExecuteTime": {
     "end_time": "2022-06-23T08:45:59.762944Z",
     "start_time": "2022-06-23T08:45:59.732948Z"
    }
   },
   "outputs": [
    {
     "name": "stdout",
     "output_type": "stream",
     "text": [
      "adjusted_mutual_info_score:  0.6460362000301658\n",
      "adjusted_rand_score:  0.6996846864381802\n",
      "completeness_score:  0.6466778021004851\n",
      "fowlkes_mallows_score:  0.7998131911484959\n",
      "homogeneity_score:  0.6468324814826899\n",
      "mutual_info_score:  0.70973724648173\n",
      "normalized_mutual_info_score:  0.6467551325432221\n",
      "rand_score:  0.8665109380793474\n",
      "v_measure_score:  0.6467551325432221\n"
     ]
    }
   ],
   "source": [
    "print('adjusted_mutual_info_score: ' , adjusted_mutual_info_score(y_test, y_pred))\n",
    "print('adjusted_rand_score: ' , adjusted_rand_score(y_test, y_pred))\n",
    "print('completeness_score: ' , completeness_score(y_test, y_pred))\n",
    "print('fowlkes_mallows_score: ' , fowlkes_mallows_score(y_test, y_pred))\n",
    "print('homogeneity_score: ' , homogeneity_score(y_test, y_pred))\n",
    "print('mutual_info_score: ' , mutual_info_score(y_test, y_pred))\n",
    "print('normalized_mutual_info_score: ' , normalized_mutual_info_score(y_test, y_pred))\n",
    "print('rand_score: ' , rand_score(y_test, y_pred))\n",
    "print('v_measure_score: ' , v_measure_score(y_test, y_pred))"
   ]
  }
 ],
 "metadata": {
  "kernelspec": {
   "display_name": "Python 3 (ipykernel)",
   "language": "python",
   "name": "python3"
  },
  "language_info": {
   "codemirror_mode": {
    "name": "ipython",
    "version": 3
   },
   "file_extension": ".py",
   "mimetype": "text/x-python",
   "name": "python",
   "nbconvert_exporter": "python",
   "pygments_lexer": "ipython3",
   "version": "3.9.7"
  }
 },
 "nbformat": 4,
 "nbformat_minor": 5
}
