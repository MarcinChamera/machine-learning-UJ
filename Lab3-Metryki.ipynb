{
 "cells": [
  {
   "cell_type": "code",
   "execution_count": 1,
   "id": "2475d5e1",
   "metadata": {
    "ExecuteTime": {
     "end_time": "2022-05-12T13:44:46.779790Z",
     "start_time": "2022-05-12T13:44:45.583572Z"
    }
   },
   "outputs": [],
   "source": [
    "import numpy as np\n",
    "import sklearn.metrics\n",
    "import sklearn.datasets as ds\n",
    "from sklearn.linear_model import LogisticRegression, LinearRegression\n",
    "from sklearn.model_selection import train_test_split\n",
    "import matplotlib.pyplot as plt\n",
    "import itertools\n",
    "import sklearn.multiclass\n",
    "import sklearn.svm"
   ]
  },
  {
   "cell_type": "markdown",
   "id": "7b660432",
   "metadata": {},
   "source": [
    "w tym notebooku głównym rodzajem przedstawionych metryk będą te, które pozwalają na ewaluację zdolności modelu do dokonywania poprawnych przewidywań "
   ]
  },
  {
   "cell_type": "markdown",
   "id": "764834fd",
   "metadata": {},
   "source": [
    "### regresja\n",
    "\n",
    "dla regresji w większosći używane są takie same metryki jak dla funkcji straty z notebooka \"Lab3-Funkcje_straty\""
   ]
  },
  {
   "cell_type": "code",
   "execution_count": 2,
   "id": "4bc5a9f8",
   "metadata": {
    "ExecuteTime": {
     "end_time": "2022-05-12T13:44:46.810790Z",
     "start_time": "2022-05-12T13:44:46.780791Z"
    }
   },
   "outputs": [
    {
     "name": "stdout",
     "output_type": "stream",
     "text": [
      "mean_absolute_error: 9.241851728347683e-14\n",
      "mean_squared_error: 1.3447555656843354e-26\n"
     ]
    }
   ],
   "source": [
    "regression_ds = ds.make_regression(n_samples=2000, n_features=10, n_targets=1)\n",
    "\n",
    "X_train, X_test, y_train, y_test = train_test_split(regression_ds[0], regression_ds[1])\n",
    "\n",
    "regression_model = LinearRegression()\n",
    "regression_model.fit(X_train, y_train)\n",
    "y_pred = regression_model.predict(X_test)\n",
    "\n",
    "# poniższe metryki są używane także jako funkcja straty\n",
    "mean_absolute_error = sklearn.metrics.mean_absolute_error(y_test, y_pred)\n",
    "mean_squared_error = sklearn.metrics.mean_squared_error(y_test, y_pred)\n",
    "\n",
    "print('mean_absolute_error:', mean_absolute_error)\n",
    "print('mean_squared_error:', mean_squared_error)\n",
    "\n",
    "# więcej przykładów we wspomnianym notebooku"
   ]
  },
  {
   "cell_type": "markdown",
   "id": "8551eef7",
   "metadata": {},
   "source": [
    "poza tym, w sklearn dla regresji można znaleźć metryki:"
   ]
  },
  {
   "cell_type": "code",
   "execution_count": 3,
   "id": "3cb576bb",
   "metadata": {
    "ExecuteTime": {
     "end_time": "2022-05-12T13:44:46.826795Z",
     "start_time": "2022-05-12T13:44:46.811790Z"
    }
   },
   "outputs": [
    {
     "name": "stdout",
     "output_type": "stream",
     "text": [
      "explained_variance_score: 1.0\n",
      "r2_score: 1.0\n"
     ]
    }
   ],
   "source": [
    "print('explained_variance_score:', sklearn.metrics.explained_variance_score(y_test, y_pred))\n",
    "print('r2_score:', sklearn.metrics.r2_score(y_test, y_pred))"
   ]
  },
  {
   "cell_type": "markdown",
   "id": "0def329c",
   "metadata": {},
   "source": [
    "### klasyfikacja"
   ]
  },
  {
   "cell_type": "code",
   "execution_count": 4,
   "id": "4c4caf98",
   "metadata": {
    "ExecuteTime": {
     "end_time": "2022-05-12T13:44:46.858792Z",
     "start_time": "2022-05-12T13:44:46.828793Z"
    }
   },
   "outputs": [],
   "source": [
    "multiclass_ds = ds.make_classification(n_samples=2000, n_features=10, n_classes=3, n_informative=3, n_redundant=0)\n",
    "X_train, X_test, y_train, y_test = train_test_split(multiclass_ds[0], multiclass_ds[1])\n",
    "model = LogisticRegression()\n",
    "model.fit(X_train, y_train)\n",
    "y_pred = model.predict(X_test)"
   ]
  },
  {
   "cell_type": "code",
   "execution_count": 5,
   "id": "ae9a86ba",
   "metadata": {
    "ExecuteTime": {
     "end_time": "2022-05-12T13:44:47.001005Z",
     "start_time": "2022-05-12T13:44:46.859794Z"
    }
   },
   "outputs": [
    {
     "name": "stdout",
     "output_type": "stream",
     "text": [
      "accuracy_score: 0.43\n",
      "balanced_accuracy_score: 0.43550457439037116\n",
      "top_k_accuracy_score: 0.75\n",
      "recall_score: [0.44382022 0.27058824 0.59210526]\n",
      "precision_score: [0.46470588 0.368      0.43902439]\n",
      "specificity: [0.7, 0.6693333333333333, 0.7898305084745763]\n",
      "f1_score: [0.45402299 0.31186441 0.50420168]\n",
      "fbeta_score: [0.46037296 0.34328358 0.46296296]\n",
      "matthews_corrcoef (MCC): 0.15059913034457373\n",
      "cohen_kappa_score: 0.14838941014761253\n",
      "jaccard_score: [0.2936803  0.18473896 0.33707865]\n"
     ]
    },
    {
     "name": "stderr",
     "output_type": "stream",
     "text": [
      "C:\\Users\\mcham\\anaconda3\\envs\\tf-gpu-280\\lib\\site-packages\\sklearn\\utils\\deprecation.py:87: FutureWarning: Function plot_confusion_matrix is deprecated; Function `plot_confusion_matrix` is deprecated in 1.0 and will be removed in 1.2. Use one of the class methods: ConfusionMatrixDisplay.from_predictions or ConfusionMatrixDisplay.from_estimator.\n",
      "  warnings.warn(msg, category=FutureWarning)\n"
     ]
    },
    {
     "data": {
      "image/png": "[encoded data removed]",
      "text/plain": [
       "<Figure size 432x288 with 2 Axes>"
      ]
     },
     "metadata": {
      "needs_background": "light"
     },
     "output_type": "display_data"
    }
   ],
   "source": [
    "# metryki dokładności:\n",
    "print('accuracy_score:', sklearn.metrics.accuracy_score(y_test, y_pred))\n",
    "print('balanced_accuracy_score:', sklearn.metrics.balanced_accuracy_score(y_test, y_pred))\n",
    "\n",
    "y_true = np.array([0, 1, 2, 2])\n",
    "y_score = np.array([[0.5, 0.2, 0.2],\n",
    "                    [0.3, 0.4, 0.2], \n",
    "                    [0.2, 0.4, 0.3], \n",
    "                    [0.7, 0.2, 0.1]])\n",
    "print('top_k_accuracy_score:', sklearn.metrics.top_k_accuracy_score(y_true, y_score))\n",
    "\n",
    "# metryki probabilistyczne, tak jak i metryki hinge, były już użyte w notebooku \"Lab3-Funkcje_straty\"\n",
    "\n",
    "# metryki bazujące na pozytywach i negatywach\n",
    "# (Ponieważ problem jest wieloklasowy, należy ustawić parametr \"average\", który domyślnie jest wybrany jako \"binary\".\n",
    "# W przypadku ustawienia parametru na \"None\", zostają zwrócone wyniki dla każdej z klas)\n",
    "print('recall_score:', sklearn.metrics.recall_score(y_test, y_pred, average=None))\n",
    "print('precision_score:', sklearn.metrics.precision_score(y_test, y_pred, average=None))\n",
    "\n",
    "# ..., które pochodzą z tablicy pomyłek\n",
    "confusion_matrix = sklearn.metrics.confusion_matrix(y_test, y_pred)\n",
    "labels = [0, 1, 2]\n",
    "sklearn.metrics.plot_confusion_matrix(model, X_test, y_test)\n",
    "\n",
    "# swoistości samej w sobie nie ma zaimplementowanej w sklearn, natomiast można ją obliczyć z tablicy pomyłek\n",
    "def specificity(cm, labels):\n",
    "    specificities = []\n",
    "    for label_i, label in enumerate(labels):\n",
    "        tn = 0\n",
    "        for row_i, row in enumerate(cm):\n",
    "            for col_i, counts in enumerate(row):\n",
    "                if (col_i != label_i and row_i != label_i):\n",
    "                    tn += counts\n",
    "        fp = np.sum(np.delete(cm[label_i], label_i, 0))\n",
    "        specificities.append(tn / (tn + fp))\n",
    "    return specificities\n",
    "        \n",
    "print('specificity:', specificity(confusion_matrix, labels))\n",
    "\n",
    "# inne metryki pochodzące z tablicy pomyłek\n",
    "print('f1_score:', sklearn.metrics.f1_score(y_test, y_pred, average=None))\n",
    "print('fbeta_score:', sklearn.metrics.fbeta_score(y_test, y_pred, beta=0.5, average=None))\n",
    "print('matthews_corrcoef (MCC):', sklearn.metrics.matthews_corrcoef(y_test, y_pred))\n",
    "\n",
    "# i jeszcze inne metryki\n",
    "print('cohen_kappa_score:', sklearn.metrics.cohen_kappa_score(y_test, y_pred))\n",
    "print('jaccard_score:', sklearn.metrics.jaccard_score(y_test, y_pred, average=None))"
   ]
  },
  {
   "cell_type": "code",
   "execution_count": 6,
   "id": "4b9aca51",
   "metadata": {
    "ExecuteTime": {
     "end_time": "2022-05-12T13:44:47.016971Z",
     "start_time": "2022-05-12T13:44:47.001972Z"
    }
   },
   "outputs": [
    {
     "data": {
      "text/plain": [
       "array([2, 0, 1, 0, 0, 0, 1, 2, 2, 2, 1, 2, 0, 0, 0, 2, 2, 0, 0, 0, 1, 2,\n",
       "       0, 1, 0, 2, 0, 0, 0, 1, 1, 2, 2, 1, 1, 0, 2, 0, 0, 0, 2, 2, 1, 2,\n",
       "       1, 1, 0, 2, 1, 1, 1, 0, 0, 0, 0, 0, 1, 1, 2, 0, 0, 1, 2, 0, 2, 2,\n",
       "       2, 2, 2, 2, 1, 1, 1, 1, 0, 2, 0, 2, 1, 1, 0, 0, 2, 0, 2, 2, 2, 1,\n",
       "       2, 2, 2, 0, 0, 2, 0, 0, 2, 0, 2, 1, 0, 2, 0, 0, 1, 0, 0, 0, 0, 0,\n",
       "       2, 0, 0, 2, 1, 0, 2, 0, 2, 2, 2, 1, 2, 2, 1, 0, 2, 0, 0, 2, 0, 0,\n",
       "       0, 0, 2, 1, 2, 2, 1, 0, 0, 2, 1, 1, 0, 2, 0, 2, 0, 1, 0, 1, 1, 0,\n",
       "       2, 2, 0, 1, 1, 1, 2, 0, 2, 1, 0, 0, 2, 2, 1, 2, 2, 2, 1, 0, 2, 2,\n",
       "       2, 1, 1, 2, 2, 1, 1, 2, 1, 2, 2, 0, 2, 1, 0, 1, 0, 2, 2, 0, 1, 0,\n",
       "       0, 1, 2, 1, 0, 2, 2, 2, 1, 1, 1, 2, 0, 1, 2, 1, 2, 0, 0, 0, 2, 2,\n",
       "       1, 1, 0, 1, 2, 1, 1, 0, 1, 2, 0, 2, 2, 1, 1, 0, 0, 0, 0, 1, 0, 1,\n",
       "       1, 1, 0, 0, 1, 2, 2, 0, 1, 2, 0, 1, 0, 0, 2, 0, 0, 2, 2, 1, 1, 2,\n",
       "       0, 2, 2, 2, 2, 1, 2, 2, 0, 2, 2, 1, 0, 2, 2, 0, 2, 2, 0, 0, 0, 2,\n",
       "       1, 2, 2, 1, 2, 0, 0, 2, 1, 2, 2, 0, 2, 1, 2, 0, 0, 1, 0, 0, 0, 0,\n",
       "       0, 0, 2, 0, 2, 2, 2, 2, 1, 0, 0, 2, 2, 0, 0, 2, 2, 2, 0, 0, 1, 0,\n",
       "       2, 0, 1, 1, 2, 1, 1, 2, 1, 0, 2, 0, 2, 2, 0, 2, 1, 1, 2, 2, 0, 0,\n",
       "       0, 0, 1, 1, 2, 2, 2, 2, 1, 2, 2, 2, 2, 1, 2, 2, 0, 2, 0, 2, 0, 2,\n",
       "       2, 1, 2, 2, 0, 2, 0, 0, 2, 2, 1, 0, 0, 2, 0, 0, 1, 2, 2, 0, 0, 2,\n",
       "       1, 2, 2, 2, 1, 2, 1, 1, 2, 2, 2, 2, 0, 0, 2, 2, 2, 1, 0, 1, 0, 2,\n",
       "       0, 0, 1, 2, 0, 1, 2, 2, 2, 2, 2, 2, 0, 1, 0, 0, 1, 2, 0, 2, 1, 0,\n",
       "       2, 1, 2, 1, 2, 2, 0, 1, 2, 2, 2, 1, 2, 0, 0, 0, 2, 0, 1, 1, 2, 1,\n",
       "       2, 2, 1, 1, 0, 2, 2, 2, 2, 0, 1, 2, 2, 0, 0, 2, 0, 2, 1, 0, 2, 2,\n",
       "       1, 1, 0, 1, 2, 2, 1, 1, 2, 0, 2, 2, 0, 2, 0, 0])"
      ]
     },
     "execution_count": 6,
     "metadata": {},
     "output_type": "execute_result"
    }
   ],
   "source": [
    "y_pred"
   ]
  },
  {
   "cell_type": "markdown",
   "id": "fbc7dd25",
   "metadata": {},
   "source": [
    "### rysowanie krzywej ROC"
   ]
  },
  {
   "cell_type": "code",
   "execution_count": 7,
   "id": "6d90ccf6",
   "metadata": {
    "ExecuteTime": {
     "end_time": "2022-05-12T13:44:47.128970Z",
     "start_time": "2022-05-12T13:44:47.017971Z"
    }
   },
   "outputs": [
    {
     "data": {
      "image/png": "[encoded data removed]",
      "text/plain": [
       "<Figure size 432x288 with 1 Axes>"
      ]
     },
     "metadata": {
      "needs_background": "light"
     },
     "output_type": "display_data"
    }
   ],
   "source": [
    "# dla dwóch klas\n",
    "binaryclass_ds = ds.make_classification(n_samples=2000, n_features=10, n_classes=2, n_informative=2, n_redundant=0)\n",
    "X_train, X_test, y_train, y_test = train_test_split(binaryclass_ds[0], binaryclass_ds[1])\n",
    "model = LogisticRegression()\n",
    "model.fit(X_train, y_train)\n",
    "y_pred = model.predict(X_test)\n",
    "\n",
    "fpr, tpr, thresholds = sklearn.metrics.roc_curve(y_test, y_pred)\n",
    "roc_auc = sklearn.metrics.auc(fpr, tpr)\n",
    "display = sklearn.metrics.RocCurveDisplay(fpr=fpr, tpr=tpr, roc_auc=roc_auc,\n",
    "                                  estimator_name='example estimator')\n",
    "display.plot()\n",
    "plt.show()"
   ]
  }
 ],
 "metadata": {
  "kernelspec": {
   "display_name": "Python 3 (ipykernel)",
   "language": "python",
   "name": "python3"
  },
  "language_info": {
   "codemirror_mode": {
    "name": "ipython",
    "version": 3
   },
   "file_extension": ".py",
   "mimetype": "text/x-python",
   "name": "python",
   "nbconvert_exporter": "python",
   "pygments_lexer": "ipython3",
   "version": "3.9.7"
  }
 },
 "nbformat": 4,
 "nbformat_minor": 5
}
