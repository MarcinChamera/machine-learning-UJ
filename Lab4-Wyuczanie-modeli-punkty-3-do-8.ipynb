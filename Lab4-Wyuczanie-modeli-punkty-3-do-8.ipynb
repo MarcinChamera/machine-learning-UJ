{
 "cells": [
  {
   "cell_type": "code",
   "execution_count": 1,
   "id": "83d073d4",
   "metadata": {
    "ExecuteTime": {
     "end_time": "2022-05-27T22:24:22.227711Z",
     "start_time": "2022-05-27T22:24:20.594064Z"
    }
   },
   "outputs": [],
   "source": [
    "import sklearn.datasets as ds\n",
    "from sklearn.naive_bayes import GaussianNB, MultinomialNB\n",
    "from sklearn.model_selection import train_test_split, KFold, cross_val_score\n",
    "from sklearn.metrics import accuracy_score\n",
    "from sklearn.neighbors import NearestNeighbors, KNeighborsClassifier\n",
    "from sklearn.tree import DecisionTreeClassifier\n",
    "import matplotlib.pyplot as plt\n",
    "import seaborn as sns\n",
    "from sklearn.discriminant_analysis import LinearDiscriminantAnalysis\n",
    "from sklearn.neural_network import MLPClassifier\n",
    "from sklearn.svm import SVC, LinearSVC"
   ]
  },
  {
   "cell_type": "code",
   "execution_count": 2,
   "id": "169d0494",
   "metadata": {
    "ExecuteTime": {
     "end_time": "2022-05-27T22:24:22.243722Z",
     "start_time": "2022-05-27T22:24:22.228711Z"
    }
   },
   "outputs": [],
   "source": [
    "X, y = ds.load_iris(return_X_y=True)\n",
    "kfolds = 5"
   ]
  },
  {
   "cell_type": "markdown",
   "id": "847e4c9d",
   "metadata": {},
   "source": [
    "### 3. Wyuczyć naiwny klasyfikator Bayesa"
   ]
  },
  {
   "cell_type": "markdown",
   "id": "8cf298f0",
   "metadata": {},
   "source": [
    "- Gaussian Naive Bayes"
   ]
  },
  {
   "cell_type": "code",
   "execution_count": 3,
   "id": "928b6dec",
   "metadata": {
    "ExecuteTime": {
     "end_time": "2022-05-27T22:24:23.905711Z",
     "start_time": "2022-05-27T22:24:23.889366Z"
    }
   },
   "outputs": [
    {
     "data": {
      "text/plain": [
       "0.9533333333333334"
      ]
     },
     "execution_count": 3,
     "metadata": {},
     "output_type": "execute_result"
    }
   ],
   "source": [
    "gnb = GaussianNB()\n",
    "scores = cross_val_score(gnb, X, y, cv=kfolds)\n",
    "scores.mean()"
   ]
  },
  {
   "cell_type": "markdown",
   "id": "9a60954a",
   "metadata": {},
   "source": [
    "- Multinomial Naive Bayes"
   ]
  },
  {
   "cell_type": "code",
   "execution_count": 4,
   "id": "89c979fe",
   "metadata": {
    "ExecuteTime": {
     "end_time": "2022-05-27T22:24:26.536647Z",
     "start_time": "2022-05-27T22:24:26.513801Z"
    }
   },
   "outputs": [
    {
     "data": {
      "text/plain": [
       "0.9533333333333334"
      ]
     },
     "execution_count": 4,
     "metadata": {},
     "output_type": "execute_result"
    }
   ],
   "source": [
    "mnb = MultinomialNB()\n",
    "scores = cross_val_score(mnb, X, y, cv=kfolds)\n",
    "scores.mean()"
   ]
  },
  {
   "cell_type": "markdown",
   "id": "074cea72",
   "metadata": {},
   "source": [
    "### 4. Wyuczyć model k-NN (k-Najbliższych Sąsiadów)."
   ]
  },
  {
   "cell_type": "markdown",
   "id": "0bc7f02c",
   "metadata": {},
   "source": [
    "sklearn.neighbors pozwala na użycie algorytmu Najbliższych Sąsiadów dla uczenia nienadzorowanego i nadzorowanego."
   ]
  },
  {
   "cell_type": "markdown",
   "id": "cc7bdcaf",
   "metadata": {},
   "source": [
    "- nadzorowane"
   ]
  },
  {
   "cell_type": "code",
   "execution_count": 5,
   "id": "c08ee4d7",
   "metadata": {
    "ExecuteTime": {
     "end_time": "2022-05-27T22:24:29.983060Z",
     "start_time": "2022-05-27T22:24:29.970268Z"
    }
   },
   "outputs": [
    {
     "data": {
      "text/plain": [
       "0.9733333333333334"
      ]
     },
     "execution_count": 5,
     "metadata": {},
     "output_type": "execute_result"
    }
   ],
   "source": [
    "knn = KNeighborsClassifier()\n",
    "scores = cross_val_score(knn, X, y, cv=kfolds)\n",
    "scores.mean()"
   ]
  },
  {
   "cell_type": "markdown",
   "id": "49328461",
   "metadata": {},
   "source": [
    "### 5. Wyuczyć drzewo decyzyjne."
   ]
  },
  {
   "cell_type": "code",
   "execution_count": 6,
   "id": "f73135f4",
   "metadata": {
    "ExecuteTime": {
     "end_time": "2022-05-27T22:24:32.369718Z",
     "start_time": "2022-05-27T22:24:32.345766Z"
    }
   },
   "outputs": [
    {
     "data": {
      "text/plain": [
       "0.9666666666666668"
      ]
     },
     "execution_count": 6,
     "metadata": {},
     "output_type": "execute_result"
    }
   ],
   "source": [
    "dt = DecisionTreeClassifier()\n",
    "scores = cross_val_score(dt, X, y, cv=kfolds)\n",
    "scores.mean()"
   ]
  },
  {
   "cell_type": "markdown",
   "id": "f125a336",
   "metadata": {},
   "source": [
    "### 6. Wyuczyć model LDA (Linear Discriminant Analysis)"
   ]
  },
  {
   "cell_type": "code",
   "execution_count": 7,
   "id": "1b822b93",
   "metadata": {
    "ExecuteTime": {
     "end_time": "2022-05-27T22:24:34.147690Z",
     "start_time": "2022-05-27T22:24:34.113658Z"
    }
   },
   "outputs": [
    {
     "data": {
      "text/plain": [
       "0.9800000000000001"
      ]
     },
     "execution_count": 7,
     "metadata": {},
     "output_type": "execute_result"
    }
   ],
   "source": [
    "lda = LinearDiscriminantAnalysis()\n",
    "scores = cross_val_score(lda, X, y, cv=kfolds)\n",
    "scores.mean()"
   ]
  },
  {
   "cell_type": "markdown",
   "id": "17274bb7",
   "metadata": {},
   "source": [
    "### 7. Wyuczyć model MLP (prosta sieć neuronowa).\n",
    " "
   ]
  },
  {
   "cell_type": "code",
   "execution_count": 8,
   "id": "c9236863",
   "metadata": {
    "ExecuteTime": {
     "end_time": "2022-05-27T22:24:36.635652Z",
     "start_time": "2022-05-27T22:24:36.161869Z"
    }
   },
   "outputs": [
    {
     "name": "stderr",
     "output_type": "stream",
     "text": [
      "C:\\Users\\mcham\\anaconda3\\envs\\tf-gpu-280\\lib\\site-packages\\sklearn\\neural_network\\_multilayer_perceptron.py:692: ConvergenceWarning: Stochastic Optimizer: Maximum iterations (200) reached and the optimization hasn't converged yet.\n",
      "  warnings.warn(\n",
      "C:\\Users\\mcham\\anaconda3\\envs\\tf-gpu-280\\lib\\site-packages\\sklearn\\neural_network\\_multilayer_perceptron.py:692: ConvergenceWarning: Stochastic Optimizer: Maximum iterations (200) reached and the optimization hasn't converged yet.\n",
      "  warnings.warn(\n",
      "C:\\Users\\mcham\\anaconda3\\envs\\tf-gpu-280\\lib\\site-packages\\sklearn\\neural_network\\_multilayer_perceptron.py:692: ConvergenceWarning: Stochastic Optimizer: Maximum iterations (200) reached and the optimization hasn't converged yet.\n",
      "  warnings.warn(\n",
      "C:\\Users\\mcham\\anaconda3\\envs\\tf-gpu-280\\lib\\site-packages\\sklearn\\neural_network\\_multilayer_perceptron.py:692: ConvergenceWarning: Stochastic Optimizer: Maximum iterations (200) reached and the optimization hasn't converged yet.\n",
      "  warnings.warn(\n",
      "C:\\Users\\mcham\\anaconda3\\envs\\tf-gpu-280\\lib\\site-packages\\sklearn\\neural_network\\_multilayer_perceptron.py:692: ConvergenceWarning: Stochastic Optimizer: Maximum iterations (200) reached and the optimization hasn't converged yet.\n",
      "  warnings.warn(\n"
     ]
    },
    {
     "data": {
      "text/plain": [
       "0.9733333333333334"
      ]
     },
     "execution_count": 8,
     "metadata": {},
     "output_type": "execute_result"
    }
   ],
   "source": [
    "mlp = MLPClassifier()\n",
    "scores = cross_val_score(mlp, X, y, cv=kfolds)\n",
    "scores.mean()"
   ]
  },
  {
   "cell_type": "markdown",
   "id": "441c1f0e",
   "metadata": {},
   "source": [
    "### 8. Wyuczyć model SVM (Support Vector Machine): rozważyć różne funkcje jądrowe."
   ]
  },
  {
   "cell_type": "markdown",
   "id": "a874f8e8",
   "metadata": {},
   "source": [
    "- LinearSVC podobny do SVC z ustawionym kernelem linear"
   ]
  },
  {
   "cell_type": "code",
   "execution_count": 9,
   "id": "7e2e9a1c",
   "metadata": {
    "ExecuteTime": {
     "end_time": "2022-05-27T22:24:39.220495Z",
     "start_time": "2022-05-27T22:24:39.186628Z"
    }
   },
   "outputs": [
    {
     "name": "stderr",
     "output_type": "stream",
     "text": [
      "C:\\Users\\mcham\\anaconda3\\envs\\tf-gpu-280\\lib\\site-packages\\sklearn\\svm\\_base.py:1206: ConvergenceWarning: Liblinear failed to converge, increase the number of iterations.\n",
      "  warnings.warn(\n",
      "C:\\Users\\mcham\\anaconda3\\envs\\tf-gpu-280\\lib\\site-packages\\sklearn\\svm\\_base.py:1206: ConvergenceWarning: Liblinear failed to converge, increase the number of iterations.\n",
      "  warnings.warn(\n",
      "C:\\Users\\mcham\\anaconda3\\envs\\tf-gpu-280\\lib\\site-packages\\sklearn\\svm\\_base.py:1206: ConvergenceWarning: Liblinear failed to converge, increase the number of iterations.\n",
      "  warnings.warn(\n",
      "C:\\Users\\mcham\\anaconda3\\envs\\tf-gpu-280\\lib\\site-packages\\sklearn\\svm\\_base.py:1206: ConvergenceWarning: Liblinear failed to converge, increase the number of iterations.\n",
      "  warnings.warn(\n",
      "C:\\Users\\mcham\\anaconda3\\envs\\tf-gpu-280\\lib\\site-packages\\sklearn\\svm\\_base.py:1206: ConvergenceWarning: Liblinear failed to converge, increase the number of iterations.\n",
      "  warnings.warn(\n"
     ]
    },
    {
     "data": {
      "text/plain": [
       "0.9666666666666668"
      ]
     },
     "execution_count": 9,
     "metadata": {},
     "output_type": "execute_result"
    }
   ],
   "source": [
    "lsvc = LinearSVC()\n",
    "scores = cross_val_score(lsvc, X, y, cv=kfolds)\n",
    "scores.mean()"
   ]
  },
  {
   "cell_type": "markdown",
   "id": "155d2e04",
   "metadata": {},
   "source": [
    "- SVC"
   ]
  },
  {
   "cell_type": "code",
   "execution_count": 10,
   "id": "c4c95794",
   "metadata": {
    "ExecuteTime": {
     "end_time": "2022-05-27T22:24:41.668968Z",
     "start_time": "2022-05-27T22:24:41.625876Z"
    }
   },
   "outputs": [
    {
     "name": "stdout",
     "output_type": "stream",
     "text": [
      "Kernel linear: 0.9800000000000001\n",
      "Kernel poly: 0.9800000000000001\n",
      "Kernel rbf: 0.9666666666666666\n",
      "Kernel sigmoid: 0.06666666666666667\n"
     ]
    }
   ],
   "source": [
    "available_kernels = ['linear', 'poly', 'rbf', 'sigmoid']\n",
    "for kernel in available_kernels:\n",
    "    svc = SVC(kernel=kernel)\n",
    "    scores = cross_val_score(svc, X, y, cv=kfolds)\n",
    "    print(f'Kernel {kernel}: {scores.mean()}')"
   ]
  }
 ],
 "metadata": {
  "kernelspec": {
   "display_name": "Python 3 (ipykernel)",
   "language": "python",
   "name": "python3"
  },
  "language_info": {
   "codemirror_mode": {
    "name": "ipython",
    "version": 3
   },
   "file_extension": ".py",
   "mimetype": "text/x-python",
   "name": "python",
   "nbconvert_exporter": "python",
   "pygments_lexer": "ipython3",
   "version": "3.9.7"
  }
 },
 "nbformat": 4,
 "nbformat_minor": 5
}
