{
 "cells": [
  {
   "cell_type": "code",
   "execution_count": 1,
   "id": "c5ad9cca",
   "metadata": {
    "ExecuteTime": {
     "end_time": "2022-05-12T13:47:46.404359Z",
     "start_time": "2022-05-12T13:47:45.583570Z"
    }
   },
   "outputs": [],
   "source": [
    "import sklearn.datasets as ds\n",
    "from sklearn.model_selection import train_test_split, KFold, LeaveOneOut\n",
    "import pandas as pd"
   ]
  },
  {
   "cell_type": "markdown",
   "id": "334372e3",
   "metadata": {},
   "source": [
    "a) dużo danych (kilka tysięcy): hold-out, 70% trenowanie-30% testowanie"
   ]
  },
  {
   "cell_type": "code",
   "execution_count": 2,
   "id": "6f62978f",
   "metadata": {
    "ExecuteTime": {
     "end_time": "2022-05-12T13:47:46.499363Z",
     "start_time": "2022-05-12T13:47:46.405359Z"
    }
   },
   "outputs": [
    {
     "name": "stdout",
     "output_type": "stream",
     "text": [
      ".. _digits_dataset:\n",
      "\n",
      "Optical recognition of handwritten digits dataset\n",
      "--------------------------------------------------\n",
      "\n",
      "**Data Set Characteristics:**\n",
      "\n",
      "    :Number of Instances: 1797\n",
      "    :Number of Attributes: 64\n",
      "    :Attribute Information: 8x8 image of integer pixels in the range 0..16.\n",
      "    :Missing Attribute Values: None\n",
      "    :Creator: E. Alpaydin (alpaydin '@' boun.edu.tr)\n",
      "    :Date: July; 1998\n",
      "\n",
      "This is a copy of the test set of the UCI ML hand-written digits datasets\n",
      "https://archive.ics.uci.edu/ml/datasets/Optical+Recognition+of+Handwritten+Digits\n",
      "\n",
      "The data set contains images of hand-written digits: 10 classes where\n",
      "each class refers to a digit.\n",
      "\n",
      "Preprocessing programs made available by NIST were used to extract\n",
      "normalized bitmaps of handwritten digits from a preprinted form. From a\n",
      "total of 43 people, 30 contributed to the training set and different 13\n",
      "to the test set. 32x32 bitmaps are divided into nonoverlapping blocks of\n",
      "4x4 and the number of on pixels are counted in each block. This generates\n",
      "an input matrix of 8x8 where each element is an integer in the range\n",
      "0..16. This reduces dimensionality and gives invariance to small\n",
      "distortions.\n",
      "\n",
      "For info on NIST preprocessing routines, see M. D. Garris, J. L. Blue, G.\n",
      "T. Candela, D. L. Dimmick, J. Geist, P. J. Grother, S. A. Janet, and C.\n",
      "L. Wilson, NIST Form-Based Handprint Recognition System, NISTIR 5469,\n",
      "1994.\n",
      "\n",
      ".. topic:: References\n",
      "\n",
      "  - C. Kaynak (1995) Methods of Combining Multiple Classifiers and Their\n",
      "    Applications to Handwritten Digit Recognition, MSc Thesis, Institute of\n",
      "    Graduate Studies in Science and Engineering, Bogazici University.\n",
      "  - E. Alpaydin, C. Kaynak (1998) Cascading Classifiers, Kybernetika.\n",
      "  - Ken Tang and Ponnuthurai N. Suganthan and Xi Yao and A. Kai Qin.\n",
      "    Linear dimensionalityreduction using relevance weighted LDA. School of\n",
      "    Electrical and Electronic Engineering Nanyang Technological University.\n",
      "    2005.\n",
      "  - Claudio Gentile. A New Approximate Maximal Margin Classification\n",
      "    Algorithm. NIPS. 2000.\n",
      "\n"
     ]
    }
   ],
   "source": [
    "digits_ds = ds.load_digits()\n",
    "print(digits_ds.DESCR)"
   ]
  },
  {
   "cell_type": "code",
   "execution_count": 3,
   "id": "d5364cd6",
   "metadata": {
    "ExecuteTime": {
     "end_time": "2022-05-12T13:47:46.514359Z",
     "start_time": "2022-05-12T13:47:46.500360Z"
    }
   },
   "outputs": [
    {
     "name": "stdout",
     "output_type": "stream",
     "text": [
      "1257 540 1257 540\n"
     ]
    }
   ],
   "source": [
    "X_train, X_test, y_train, y_test = train_test_split(digits_ds.images, digits_ds.target, test_size=0.3)\n",
    "print(len(X_train), len(X_test), len(y_train), len(y_test))"
   ]
  },
  {
   "cell_type": "code",
   "execution_count": 4,
   "id": "1c2bc267",
   "metadata": {
    "ExecuteTime": {
     "end_time": "2022-05-12T13:47:46.530458Z",
     "start_time": "2022-05-12T13:47:46.516360Z"
    }
   },
   "outputs": [
    {
     "data": {
      "text/plain": [
       "array([[[ 0.,  0., 15., ...,  6.,  2.,  0.],\n",
       "        [ 0.,  4., 16., ..., 12., 10.,  0.],\n",
       "        [ 0.,  7., 14., ...,  0.,  0.,  0.],\n",
       "        ...,\n",
       "        [ 0.,  1.,  8., ...,  8.,  0.,  0.],\n",
       "        [ 0.,  0.,  1., ...,  2.,  0.,  0.],\n",
       "        [ 0.,  0., 13., ...,  0.,  0.,  0.]],\n",
       "\n",
       "       [[ 0.,  0.,  5., ...,  1.,  0.,  0.],\n",
       "        [ 0.,  0., 15., ..., 11.,  0.,  0.],\n",
       "        [ 0.,  2., 16., ..., 12.,  4.,  0.],\n",
       "        ...,\n",
       "        [ 0.,  3., 16., ...,  6.,  8.,  0.],\n",
       "        [ 0.,  0., 13., ..., 16.,  7.,  0.],\n",
       "        [ 0.,  0.,  4., ..., 10.,  0.,  0.]],\n",
       "\n",
       "       [[ 0.,  0.,  5., ...,  0.,  0.,  0.],\n",
       "        [ 0.,  0., 12., ..., 11.,  0.,  0.],\n",
       "        [ 0.,  0., 13., ..., 16.,  0.,  0.],\n",
       "        ...,\n",
       "        [ 0.,  0.,  4., ...,  8., 12.,  0.],\n",
       "        [ 0.,  1., 15., ..., 13., 11.,  0.],\n",
       "        [ 0.,  0.,  5., ..., 14.,  3.,  0.]],\n",
       "\n",
       "       ...,\n",
       "\n",
       "       [[ 0.,  0.,  1., ..., 13., 15.,  3.],\n",
       "        [ 0.,  0.,  7., ..., 10., 16.,  5.],\n",
       "        [ 0.,  1., 13., ...,  9., 14.,  0.],\n",
       "        ...,\n",
       "        [ 0.,  0.,  0., ...,  4.,  0.,  0.],\n",
       "        [ 0.,  0.,  0., ...,  0.,  0.,  0.],\n",
       "        [ 0.,  0.,  0., ...,  0.,  0.,  0.]],\n",
       "\n",
       "       [[ 0.,  0., 10., ...,  0.,  0.,  0.],\n",
       "        [ 0.,  0., 10., ..., 13.,  1.,  0.],\n",
       "        [ 0.,  0.,  8., ..., 14.,  4.,  0.],\n",
       "        ...,\n",
       "        [ 0.,  1., 15., ..., 10.,  0.,  0.],\n",
       "        [ 0.,  0., 14., ..., 10.,  0.,  0.],\n",
       "        [ 0.,  0.,  8., ...,  1.,  0.,  0.]],\n",
       "\n",
       "       [[ 0.,  3., 15., ...,  8.,  1.,  0.],\n",
       "        [ 0.,  4., 16., ..., 12.,  2.,  0.],\n",
       "        [ 0.,  0., 16., ...,  0.,  0.,  0.],\n",
       "        ...,\n",
       "        [ 0.,  0.,  0., ...,  0.,  0.,  0.],\n",
       "        [ 0.,  0.,  5., ...,  0.,  0.,  0.],\n",
       "        [ 0.,  2., 15., ...,  0.,  0.,  0.]]])"
      ]
     },
     "execution_count": 4,
     "metadata": {},
     "output_type": "execute_result"
    }
   ],
   "source": [
    "X_train"
   ]
  },
  {
   "cell_type": "code",
   "execution_count": 5,
   "id": "40068812",
   "metadata": {
    "ExecuteTime": {
     "end_time": "2022-05-12T13:47:46.546359Z",
     "start_time": "2022-05-12T13:47:46.532360Z"
    }
   },
   "outputs": [
    {
     "data": {
      "text/plain": [
       "array([5, 8, 3, 0, 8, 0, 0, 4, 4, 4, 6, 5, 4, 7, 7, 7, 2, 7, 3, 7, 5, 8,\n",
       "       4, 4, 8, 6, 6, 8, 0, 5, 6, 2, 6, 9, 5, 8, 1, 6, 7, 5, 8, 2, 7, 2,\n",
       "       0, 9, 1, 0, 3, 0, 9, 0, 9, 6, 6, 6, 2, 9, 1, 8, 2, 0, 7, 8, 7, 0,\n",
       "       2, 9, 2, 4, 7, 5, 1, 6, 3, 9, 6, 3, 3, 6, 7, 8, 2, 3, 8, 8, 6, 5,\n",
       "       8, 1, 0, 0, 3, 9, 5, 2, 9, 9, 8, 2, 0, 3, 7, 3, 9, 8, 3, 2, 2, 7,\n",
       "       9, 2, 4, 6, 9, 1, 0, 3, 6, 1, 1, 0, 0, 1, 7, 7, 9, 7, 8, 8, 1, 6,\n",
       "       9, 6, 5, 0, 9, 3, 6, 5, 8, 2, 5, 1, 4, 9, 9, 5, 5, 8, 8, 7, 7, 4,\n",
       "       0, 5, 0, 9, 5, 7, 6, 5, 8, 6, 9, 4, 8, 5, 2, 6, 2, 4, 5, 8, 0, 5,\n",
       "       7, 4, 7, 3, 2, 9, 3, 0, 6, 6, 6, 7, 1, 3, 6, 7, 9, 0, 2, 6, 2, 9,\n",
       "       7, 4, 1, 4, 6, 3, 2, 4, 8, 8, 3, 8, 2, 2, 8, 8, 9, 6, 3, 0, 9, 1,\n",
       "       1, 8, 2, 9, 9, 0, 8, 7, 9, 6, 2, 2, 4, 2, 7, 1, 1, 5, 5, 0, 0, 1,\n",
       "       4, 1, 7, 7, 2, 3, 0, 4, 0, 6, 0, 3, 7, 4, 3, 3, 9, 2, 8, 1, 5, 6,\n",
       "       5, 3, 4, 8, 6, 8, 8, 8, 6, 5, 6, 0, 2, 0, 5, 3, 7, 9, 7, 3, 7, 7,\n",
       "       7, 5, 4, 5, 3, 5, 3, 0, 6, 9, 3, 3, 2, 9, 3, 2, 9, 2, 8, 8, 5, 8,\n",
       "       2, 9, 1, 8, 4, 5, 4, 0, 4, 2, 0, 3, 8, 7, 9, 5, 4, 5, 8, 9, 3, 7,\n",
       "       9, 2, 0, 7, 0, 8, 0, 5, 8, 0, 5, 6, 2, 8, 1, 3, 9, 4, 4, 7, 4, 5,\n",
       "       4, 7, 7, 7, 1, 5, 1, 8, 3, 9, 3, 1, 5, 6, 5, 4, 3, 5, 1, 9, 9, 3,\n",
       "       5, 5, 4, 7, 7, 2, 7, 4, 8, 4, 0, 7, 4, 3, 2, 7, 6, 9, 9, 2, 7, 0,\n",
       "       5, 7, 7, 1, 2, 2, 7, 6, 2, 5, 8, 5, 1, 7, 9, 6, 6, 3, 0, 5, 9, 4,\n",
       "       1, 6, 4, 7, 4, 3, 6, 0, 6, 6, 5, 1, 2, 4, 8, 4, 5, 3, 4, 9, 7, 8,\n",
       "       9, 5, 1, 0, 6, 0, 7, 9, 5, 8, 1, 4, 6, 2, 2, 0, 3, 2, 0, 6, 2, 5,\n",
       "       2, 9, 9, 9, 7, 5, 2, 5, 2, 0, 4, 7, 9, 5, 1, 0, 7, 9, 1, 5, 0, 9,\n",
       "       4, 8, 2, 5, 1, 6, 2, 7, 0, 4, 3, 2, 9, 0, 0, 9, 4, 9, 2, 9, 3, 1,\n",
       "       7, 0, 3, 0, 9, 7, 2, 2, 4, 4, 6, 1, 8, 2, 7, 0, 9, 4, 2, 5, 9, 2,\n",
       "       4, 8, 0, 6, 3, 5, 0, 0, 2, 1, 9, 4])"
      ]
     },
     "execution_count": 5,
     "metadata": {},
     "output_type": "execute_result"
    }
   ],
   "source": [
    "y_test"
   ]
  },
  {
   "cell_type": "markdown",
   "id": "46ab1cc3",
   "metadata": {},
   "source": [
    "b) średnio dużo (kilkaset): k-fold CV (Cross Validation)"
   ]
  },
  {
   "cell_type": "code",
   "execution_count": 6,
   "id": "e03f600e",
   "metadata": {
    "ExecuteTime": {
     "end_time": "2022-05-12T13:47:46.562358Z",
     "start_time": "2022-05-12T13:47:46.547359Z"
    }
   },
   "outputs": [
    {
     "name": "stdout",
     "output_type": "stream",
     "text": [
      ".. _breast_cancer_dataset:\n",
      "\n",
      "Breast cancer wisconsin (diagnostic) dataset\n",
      "--------------------------------------------\n",
      "\n",
      "**Data Set Characteristics:**\n",
      "\n",
      "    :Number of Instances: 569\n",
      "\n",
      "    :Number of Attributes: 30 numeric, predictive attributes and the class\n",
      "\n",
      "    :Attribute Information:\n",
      "        - radius (mean of distances from center to points on the perimeter)\n",
      "        - texture (standard deviation of gray-scale values)\n",
      "        - perimeter\n",
      "        - area\n",
      "        - smoothness (local variation in radius lengths)\n",
      "        - compactness (perimeter^2 / area - 1.0)\n",
      "        - concavity (severity of concave portions of the contour)\n",
      "        - concave points (number of concave portions of the contour)\n",
      "        - symmetry\n",
      "        - fractal dimension (\"coastline approximation\" - 1)\n",
      "\n",
      "        The mean, standard error, and \"worst\" or largest (mean of the three\n",
      "        worst/largest values) of these features were computed for each image,\n",
      "        resulting in 30 features.  For instance, field 0 is Mean Radius, field\n",
      "        10 is Radius SE, field 20 is Worst Radius.\n",
      "\n",
      "        - class:\n",
      "                - WDBC-Malignant\n",
      "                - WDBC-Benign\n",
      "\n",
      "    :Summary Statistics:\n",
      "\n",
      "    ===================================== ====== ======\n",
      "                                           Min    Max\n",
      "    ===================================== ====== ======\n",
      "    radius (mean):                        6.981  28.11\n",
      "    texture (mean):                       9.71   39.28\n",
      "    perimeter (mean):                     43.79  188.5\n",
      "    area (mean):                          143.5  2501.0\n",
      "    smoothness (mean):                    0.053  0.163\n",
      "    compactness (mean):                   0.019  0.345\n",
      "    concavity (mean):                     0.0    0.427\n",
      "    concave points (mean):                0.0    0.201\n",
      "    symmetry (mean):                      0.106  0.304\n",
      "    fractal dimension (mean):             0.05   0.097\n",
      "    radius (standard error):              0.112  2.873\n",
      "    texture (standard error):             0.36   4.885\n",
      "    perimeter (standard error):           0.757  21.98\n",
      "    area (standard error):                6.802  542.2\n",
      "    smoothness (standard error):          0.002  0.031\n",
      "    compactness (standard error):         0.002  0.135\n",
      "    concavity (standard error):           0.0    0.396\n",
      "    concave points (standard error):      0.0    0.053\n",
      "    symmetry (standard error):            0.008  0.079\n",
      "    fractal dimension (standard error):   0.001  0.03\n",
      "    radius (worst):                       7.93   36.04\n",
      "    texture (worst):                      12.02  49.54\n",
      "    perimeter (worst):                    50.41  251.2\n",
      "    area (worst):                         185.2  4254.0\n",
      "    smoothness (worst):                   0.071  0.223\n",
      "    compactness (worst):                  0.027  1.058\n",
      "    concavity (worst):                    0.0    1.252\n",
      "    concave points (worst):               0.0    0.291\n",
      "    symmetry (worst):                     0.156  0.664\n",
      "    fractal dimension (worst):            0.055  0.208\n",
      "    ===================================== ====== ======\n",
      "\n",
      "    :Missing Attribute Values: None\n",
      "\n",
      "    :Class Distribution: 212 - Malignant, 357 - Benign\n",
      "\n",
      "    :Creator:  Dr. William H. Wolberg, W. Nick Street, Olvi L. Mangasarian\n",
      "\n",
      "    :Donor: Nick Street\n",
      "\n",
      "    :Date: November, 1995\n",
      "\n",
      "This is a copy of UCI ML Breast Cancer Wisconsin (Diagnostic) datasets.\n",
      "https://goo.gl/U2Uwz2\n",
      "\n",
      "Features are computed from a digitized image of a fine needle\n",
      "aspirate (FNA) of a breast mass.  They describe\n",
      "characteristics of the cell nuclei present in the image.\n",
      "\n",
      "Separating plane described above was obtained using\n",
      "Multisurface Method-Tree (MSM-T) [K. P. Bennett, \"Decision Tree\n",
      "Construction Via Linear Programming.\" Proceedings of the 4th\n",
      "Midwest Artificial Intelligence and Cognitive Science Society,\n",
      "pp. 97-101, 1992], a classification method which uses linear\n",
      "programming to construct a decision tree.  Relevant features\n",
      "were selected using an exhaustive search in the space of 1-4\n",
      "features and 1-3 separating planes.\n",
      "\n",
      "The actual linear program used to obtain the separating plane\n",
      "in the 3-dimensional space is that described in:\n",
      "[K. P. Bennett and O. L. Mangasarian: \"Robust Linear\n",
      "Programming Discrimination of Two Linearly Inseparable Sets\",\n",
      "Optimization Methods and Software 1, 1992, 23-34].\n",
      "\n",
      "This database is also available through the UW CS ftp server:\n",
      "\n",
      "ftp ftp.cs.wisc.edu\n",
      "cd math-prog/cpo-dataset/machine-learn/WDBC/\n",
      "\n",
      ".. topic:: References\n",
      "\n",
      "   - W.N. Street, W.H. Wolberg and O.L. Mangasarian. Nuclear feature extraction \n",
      "     for breast tumor diagnosis. IS&T/SPIE 1993 International Symposium on \n",
      "     Electronic Imaging: Science and Technology, volume 1905, pages 861-870,\n",
      "     San Jose, CA, 1993.\n",
      "   - O.L. Mangasarian, W.N. Street and W.H. Wolberg. Breast cancer diagnosis and \n",
      "     prognosis via linear programming. Operations Research, 43(4), pages 570-577, \n",
      "     July-August 1995.\n",
      "   - W.H. Wolberg, W.N. Street, and O.L. Mangasarian. Machine learning techniques\n",
      "     to diagnose breast cancer from fine-needle aspirates. Cancer Letters 77 (1994) \n",
      "     163-171.\n"
     ]
    }
   ],
   "source": [
    "breast_cancer_ds = ds.load_breast_cancer()\n",
    "print(breast_cancer_ds.DESCR)"
   ]
  },
  {
   "cell_type": "code",
   "execution_count": 7,
   "id": "3f5c5fcb",
   "metadata": {
    "ExecuteTime": {
     "end_time": "2022-05-12T13:47:46.577360Z",
     "start_time": "2022-05-12T13:47:46.564359Z"
    }
   },
   "outputs": [
    {
     "name": "stdout",
     "output_type": "stream",
     "text": [
      "Split nr 1:\n",
      "TRAIN indices: [114, 568]\n",
      "TEST indices: [0, 113]\n",
      "455 114 455 114 \n",
      "\n",
      "Split nr 2:\n",
      "TRAIN indices: [0, 113], [228, 568]\n",
      "TEST indices: [114, 227]\n",
      "455 114 455 114 \n",
      "\n",
      "Split nr 3:\n",
      "TRAIN indices: [0, 227], [342, 568]\n",
      "TEST indices: [228, 341]\n",
      "455 114 455 114 \n",
      "\n",
      "Split nr 4:\n",
      "TRAIN indices: [0, 341], [456, 568]\n",
      "TEST indices: [342, 455]\n",
      "455 114 455 114 \n",
      "\n",
      "Split nr 5:\n",
      "TRAIN indices: [0, 455], [569, 455]\n",
      "TEST indices: [456, 568]\n",
      "456 113 456 113 \n",
      "\n"
     ]
    }
   ],
   "source": [
    "kf = KFold(n_splits=5)\n",
    "for split_i, (train_index, test_index) in enumerate(kf.split(breast_cancer_ds.data)):\n",
    "    print(f'Split nr {split_i+1}:')\n",
    "    if test_index[-1] < train_index[0]:\n",
    "        print(f\"TRAIN indices: [{train_index[0]}, {train_index[-1]}]\")\n",
    "    else:\n",
    "        print(f\"TRAIN indices: [{train_index[0]}, {test_index[0] - 1}], [{test_index[-1]+1}, {train_index[-1]}]\")\n",
    "    print(f\"TEST indices: [{test_index[0]}, {test_index[-1]}]\")\n",
    "    X_train, X_test = breast_cancer_ds.data[train_index], breast_cancer_ds.data[test_index]\n",
    "    y_train, y_test = breast_cancer_ds.target[train_index], breast_cancer_ds.target[test_index]\n",
    "    print(len(X_train), len(X_test), len(y_train), len(y_test), '\\n')"
   ]
  },
  {
   "cell_type": "markdown",
   "id": "5c35fe06",
   "metadata": {},
   "source": [
    "c) mało LLO (Leave One Out) = k-fold CV, gdzie k=#(dane treningowe)"
   ]
  },
  {
   "cell_type": "code",
   "execution_count": 8,
   "id": "485cebb1",
   "metadata": {
    "ExecuteTime": {
     "end_time": "2022-05-12T13:47:46.592379Z",
     "start_time": "2022-05-12T13:47:46.578361Z"
    }
   },
   "outputs": [
    {
     "name": "stdout",
     "output_type": "stream",
     "text": [
      ".. _linnerrud_dataset:\n",
      "\n",
      "Linnerrud dataset\n",
      "-----------------\n",
      "\n",
      "**Data Set Characteristics:**\n",
      "\n",
      "    :Number of Instances: 20\n",
      "    :Number of Attributes: 3\n",
      "    :Missing Attribute Values: None\n",
      "\n",
      "The Linnerud dataset is a multi-output regression dataset. It consists of three\n",
      "exercise (data) and three physiological (target) variables collected from\n",
      "twenty middle-aged men in a fitness club:\n",
      "\n",
      "- *physiological* - CSV containing 20 observations on 3 physiological variables:\n",
      "   Weight, Waist and Pulse.\n",
      "- *exercise* - CSV containing 20 observations on 3 exercise variables:\n",
      "   Chins, Situps and Jumps.\n",
      "\n",
      ".. topic:: References\n",
      "\n",
      "  * Tenenhaus, M. (1998). La regression PLS: theorie et pratique. Paris:\n",
      "    Editions Technic.\n",
      "\n"
     ]
    }
   ],
   "source": [
    "linnerud_ds = ds.load_linnerud()\n",
    "print(linnerud_ds.DESCR)"
   ]
  },
  {
   "cell_type": "code",
   "execution_count": 9,
   "id": "bac06c17",
   "metadata": {
    "ExecuteTime": {
     "end_time": "2022-05-12T13:47:46.622389Z",
     "start_time": "2022-05-12T13:47:46.594379Z"
    }
   },
   "outputs": [
    {
     "name": "stdout",
     "output_type": "stream",
     "text": [
      "Split nr 1:\n",
      "TRAIN indices: [1, 19]\n",
      "TEST index: 0\n",
      "19 1 19 1 \n",
      "\n",
      "Split nr 2:\n",
      "TRAIN indices: 0, [2, 19]\n",
      "TEST index: 1\n",
      "19 1 19 1 \n",
      "\n",
      "Split nr 3:\n",
      "TRAIN indices: [0, 1], [3, 19]\n",
      "TEST index: 2\n",
      "19 1 19 1 \n",
      "\n",
      "Split nr 4:\n",
      "TRAIN indices: [0, 2], [4, 19]\n",
      "TEST index: 3\n",
      "19 1 19 1 \n",
      "\n",
      "Split nr 5:\n",
      "TRAIN indices: [0, 3], [5, 19]\n",
      "TEST index: 4\n",
      "19 1 19 1 \n",
      "\n",
      "Split nr 6:\n",
      "TRAIN indices: [0, 4], [6, 19]\n",
      "TEST index: 5\n",
      "19 1 19 1 \n",
      "\n",
      "Split nr 7:\n",
      "TRAIN indices: [0, 5], [7, 19]\n",
      "TEST index: 6\n",
      "19 1 19 1 \n",
      "\n",
      "Split nr 8:\n",
      "TRAIN indices: [0, 6], [8, 19]\n",
      "TEST index: 7\n",
      "19 1 19 1 \n",
      "\n",
      "Split nr 9:\n",
      "TRAIN indices: [0, 7], [9, 19]\n",
      "TEST index: 8\n",
      "19 1 19 1 \n",
      "\n",
      "Split nr 10:\n",
      "TRAIN indices: [0, 8], [10, 19]\n",
      "TEST index: 9\n",
      "19 1 19 1 \n",
      "\n",
      "Split nr 11:\n",
      "TRAIN indices: [0, 9], [11, 19]\n",
      "TEST index: 10\n",
      "19 1 19 1 \n",
      "\n",
      "Split nr 12:\n",
      "TRAIN indices: [0, 10], [12, 19]\n",
      "TEST index: 11\n",
      "19 1 19 1 \n",
      "\n",
      "Split nr 13:\n",
      "TRAIN indices: [0, 11], [13, 19]\n",
      "TEST index: 12\n",
      "19 1 19 1 \n",
      "\n",
      "Split nr 14:\n",
      "TRAIN indices: [0, 12], [14, 19]\n",
      "TEST index: 13\n",
      "19 1 19 1 \n",
      "\n",
      "Split nr 15:\n",
      "TRAIN indices: [0, 13], [15, 19]\n",
      "TEST index: 14\n",
      "19 1 19 1 \n",
      "\n",
      "Split nr 16:\n",
      "TRAIN indices: [0, 14], [16, 19]\n",
      "TEST index: 15\n",
      "19 1 19 1 \n",
      "\n",
      "Split nr 17:\n",
      "TRAIN indices: [0, 15], [17, 19]\n",
      "TEST index: 16\n",
      "19 1 19 1 \n",
      "\n",
      "Split nr 18:\n",
      "TRAIN indices: [0, 16], [18, 19]\n",
      "TEST index: 17\n",
      "19 1 19 1 \n",
      "\n",
      "Split nr 19:\n",
      "TRAIN indices: [0, 17], 19\n",
      "TEST index: 18\n",
      "19 1 19 1 \n",
      "\n",
      "Split nr 20:\n",
      "TRAIN indices: [0, 18]\n",
      "TEST index: 19\n",
      "19 1 19 1 \n",
      "\n"
     ]
    }
   ],
   "source": [
    "loo = LeaveOneOut()\n",
    "for split_i, (train_index, test_index) in enumerate(loo.split(linnerud_ds.data)):\n",
    "    print(f'Split nr {split_i+1}:')\n",
    "    if test_index[0] < train_index[0]:\n",
    "        print(f\"TRAIN indices: [{train_index[0]}, {train_index[-1]}]\")\n",
    "    elif test_index[0] == train_index[0] + 1:\n",
    "        print(f\"TRAIN indices: {train_index[0]}, [{test_index[-1]+1}, {train_index[-1]}]\")\n",
    "    elif test_index[0] > train_index[-1]:\n",
    "        print(f\"TRAIN indices: [{train_index[0]}, {test_index[0] - 1}]\")\n",
    "    elif test_index[0] + 1 == train_index[-1]:\n",
    "        print(f\"TRAIN indices: [{train_index[0]}, {test_index[0] - 1}], {train_index[-1]}\")\n",
    "    else:\n",
    "        print(f\"TRAIN indices: [{train_index[0]}, {test_index[0] - 1}], [{test_index[-1]+1}, {train_index[-1]}]\")\n",
    "    print(f\"TEST index: {test_index[0]}\")\n",
    "    X_train, X_test = linnerud_ds.data[train_index], linnerud_ds.data[test_index]\n",
    "    y_train, y_test = linnerud_ds.target[train_index], linnerud_ds.target[test_index]\n",
    "    print(len(X_train), len(X_test), len(y_train), len(y_test), '\\n')"
   ]
  }
 ],
 "metadata": {
  "kernelspec": {
   "display_name": "Python 3 (ipykernel)",
   "language": "python",
   "name": "python3"
  },
  "language_info": {
   "codemirror_mode": {
    "name": "ipython",
    "version": 3
   },
   "file_extension": ".py",
   "mimetype": "text/x-python",
   "name": "python",
   "nbconvert_exporter": "python",
   "pygments_lexer": "ipython3",
   "version": "3.9.7"
  }
 },
 "nbformat": 4,
 "nbformat_minor": 5
}
