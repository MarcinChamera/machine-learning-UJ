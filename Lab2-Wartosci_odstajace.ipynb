{
 "cells": [
  {
   "cell_type": "code",
   "execution_count": 1,
   "id": "642d5e80",
   "metadata": {
    "ExecuteTime": {
     "end_time": "2022-05-12T13:41:11.378427Z",
     "start_time": "2022-05-12T13:41:09.692435Z"
    }
   },
   "outputs": [],
   "source": [
    "import sklearn.datasets as ds\n",
    "import pandas as pd\n",
    "import matplotlib.pyplot as plt\n",
    "import numpy as np"
   ]
  },
  {
   "cell_type": "markdown",
   "id": "11f32c86",
   "metadata": {},
   "source": [
    "a) narzędzia wizualne podejmowania decyzji"
   ]
  },
  {
   "cell_type": "code",
   "execution_count": 2,
   "id": "dff79e59",
   "metadata": {
    "ExecuteTime": {
     "end_time": "2022-05-12T13:41:11.394428Z",
     "start_time": "2022-05-12T13:41:11.380430Z"
    }
   },
   "outputs": [],
   "source": [
    "california_housing_ds = ds.fetch_california_housing()\n",
    "df_features = pd.DataFrame(california_housing_ds.data, columns=california_housing_ds.feature_names)\n",
    "df_targets = pd.DataFrame(california_housing_ds.target, columns=['target'])"
   ]
  },
  {
   "cell_type": "code",
   "execution_count": 3,
   "id": "90422fcc",
   "metadata": {
    "ExecuteTime": {
     "end_time": "2022-05-12T13:41:11.410428Z",
     "start_time": "2022-05-12T13:41:11.395432Z"
    }
   },
   "outputs": [
    {
     "data": {
      "text/plain": [
       "Index(['MedInc', 'HouseAge', 'AveRooms', 'AveBedrms', 'Population', 'AveOccup',\n",
       "       'Latitude', 'Longitude'],\n",
       "      dtype='object')"
      ]
     },
     "execution_count": 3,
     "metadata": {},
     "output_type": "execute_result"
    }
   ],
   "source": [
    "df_features.columns"
   ]
  },
  {
   "cell_type": "markdown",
   "id": "9c15c986",
   "metadata": {},
   "source": [
    "##### Boxplots"
   ]
  },
  {
   "cell_type": "code",
   "execution_count": 4,
   "id": "e9d06a34",
   "metadata": {
    "ExecuteTime": {
     "end_time": "2022-05-12T13:41:11.568428Z",
     "start_time": "2022-05-12T13:41:11.412431Z"
    }
   },
   "outputs": [
    {
     "data": {
      "text/plain": [
       "<AxesSubplot:>"
      ]
     },
     "execution_count": 4,
     "metadata": {},
     "output_type": "execute_result"
    },
    {
     "data": {
      "image/png": "[encoded data removed]",
      "text/plain": [
       "<Figure size 720x432 with 1 Axes>"
      ]
     },
     "metadata": {
      "needs_background": "light"
     },
     "output_type": "display_data"
    }
   ],
   "source": [
    "plt.rcParams[\"figure.figsize\"] = (10, 6)\n",
    "df_features['HouseAge'].plot(kind='box')"
   ]
  },
  {
   "cell_type": "code",
   "execution_count": 5,
   "id": "a690f884",
   "metadata": {
    "ExecuteTime": {
     "end_time": "2022-05-12T13:41:11.663430Z",
     "start_time": "2022-05-12T13:41:11.569431Z"
    }
   },
   "outputs": [
    {
     "data": {
      "text/plain": [
       "<AxesSubplot:>"
      ]
     },
     "execution_count": 5,
     "metadata": {},
     "output_type": "execute_result"
    },
    {
     "data": {
      "image/png": "[encoded data removed]",
      "text/plain": [
       "<Figure size 720x432 with 1 Axes>"
      ]
     },
     "metadata": {
      "needs_background": "light"
     },
     "output_type": "display_data"
    }
   ],
   "source": [
    "df_features['Population'].plot(kind='box')"
   ]
  },
  {
   "cell_type": "markdown",
   "id": "4b41c57a",
   "metadata": {},
   "source": [
    "Wyjaśnienie boxplot:"
   ]
  },
  {
   "cell_type": "markdown",
   "id": "84dd446c",
   "metadata": {},
   "source": [
    "![boxplot-explained](boxplot.png)"
   ]
  },
  {
   "cell_type": "markdown",
   "id": "47fee5c5",
   "metadata": {},
   "source": [
    "b) narzędzia statystyczne podejmowania decyzji"
   ]
  },
  {
   "cell_type": "markdown",
   "id": "5dc795bb",
   "metadata": {},
   "source": [
    "##### metoda Z-score\n",
    "O ile standardowych odchyleń od średniej oddalona jest dana wartość"
   ]
  },
  {
   "cell_type": "code",
   "execution_count": 6,
   "id": "59368eb2",
   "metadata": {
    "ExecuteTime": {
     "end_time": "2022-05-12T13:41:11.678520Z",
     "start_time": "2022-05-12T13:41:11.665429Z"
    }
   },
   "outputs": [
    {
     "name": "stdout",
     "output_type": "stream",
     "text": [
      "[3.002842718062172, 3.003725771196106, 3.00460882433004, 3.00460882433004, 3.006374930597908, 3.021386833874787, 3.0266851526783918, 3.027568205812326, 3.033749577749864, 3.033749577749864, 3.0346326308837983, 3.0372817902856006, 3.0399309496874025, 3.0416970559552707, 3.046995374758875, 3.0549428529642815, 3.0549428529642815, 3.0611242249018202, 3.0620072780357543, 3.0717208625090286, 3.074370021910831, 3.0779022344465674, 3.0823175001162375, 3.0832005532501716, 3.091148031455578, 3.0946802439913146, 3.099978562794919, 3.107042987866391, 3.1079260410003253, 3.11322435980393, 3.1141074129378636, 3.1176396254736, 3.130002369348677, 3.1353006881522814, 3.1414820600898197, 3.143248166357688, 3.149429538295226, 3.1573770165006327, 3.160909229036369, 3.1617922821703033, 3.1635583884381715, 3.1635583884381715, 3.1688567072417757, 3.173271972911446, 3.17415502604538, 3.175921132313248, 3.1768041854471822, 3.1794533448489846, 3.1803363979829187, 3.1829855573847206, 3.1847516636525888, 3.186517769920457, 3.1926991418579953, 3.2094771514027425, 3.2315534797510943, 3.233319586018962, 3.239500957956501, 3.2465653830279733, 3.249214542429775, 3.2536298080994457, 3.25892812690305, 3.2659925519745223, 3.2686417113763246, 3.271290870778127, 3.2845366677871377, 3.285419720921072, 3.2933671991264784, 3.299548571064017, 3.299548571064017, 3.3110282618051596, 3.3119113149390937, 3.3375198558231816, 3.3481164934303904, 3.3516487059661264, 3.356063971635797, 3.3587131310375993, 3.3657775561090717, 3.3746080874484123, 3.3807894593859507, 3.3958013626628296, 3.3966844157967637, 3.401982734600368, 3.402865787734302, 3.4240590629487198, 3.443486231895269, 3.4646795071096865, 3.473510038449027, 3.483223622922302, 3.48498972919017, 3.4920541542616426, 3.500001632467049, 3.5017677387349173, 3.515896588877862, 3.5185457482796645, 3.54150512976195, 3.5441542891637523, 3.555633979904895, 3.561815351842433, 3.567996723779972, 3.568879776913906, 3.5777103082532467, 3.5936052646640597, 3.5936052646640597, 3.5971374771997957, 3.612149380476675, 3.6200968586820816, 3.628044336887488, 3.6386409744946966, 3.6492376121019054, 3.6518867715037078, 3.6748461529859933, 3.6819105780574657, 3.6863258437271362, 3.6978055344682788, 3.6978055344682788, 3.6978055344682788, 3.71546659714696, 3.716349650280894, 3.721647969084499, 3.7304785004238394, 3.7357768192274436, 3.7446073505667843, 3.7472565099685866, 3.7516717756382567, 3.758736200709729, 3.7658006257812016, 3.7675667320490698, 3.771098944584806, 3.7905261135313553, 3.794941379201026, 3.8020058042724982, 3.8240821326208496, 3.8461584609692014, 3.8664686830496846, 3.8664686830496846, 3.869117842451487, 3.8717670018532893, 3.88059753319263, 3.885895851996234, 3.897375542737377, 3.898258595871311, 3.9159196585499925, 3.9256332430232668, 3.950358730773421, 3.9627214746484976, 3.966253687184234, 3.982148643595047, 4.007757184479135, 4.023652140889948, 4.039547097300761, 4.041313203568629, 4.050143734907969, 4.069570903854519, 4.081050594595662, 4.099594710408277, 4.10224386981008, 4.105776082345816, 4.110191348015486, 4.112840507417288, 4.114606613685156, 4.135799888899574, 4.156993164113992, 4.179952545596277, 4.180835598730211, 4.181718651864145, 4.183484758132013, 4.204678033346431, 4.2285204679626505, 4.236467946168057, 4.246181530641332, 4.25236290257887, 4.253245955712804, 4.2744392309272214, 4.277971443462958, 4.281503655998694, 4.296515559275573, 4.300047771811309, 4.300930824945244, 4.305346090614914, 4.307112196882782, 4.330954631499002, 4.366276756856364, 4.383054766401111, 4.410429413553067, 4.4254413168299465, 4.43073963563355, 4.442219326374693, 4.458114282785506, 4.490787248741067, 4.509331364553682, 4.519928002160891, 4.549951808714649, 4.554367074384319, 4.569378977661199, 4.592338359143484, 4.604701103018561, 4.61529774062577, 4.61971300629544, 4.625894378232978, 4.627660484500846, 4.627660484500846, 4.635607962706253, 4.6453215471795275, 4.651502919117066, 4.657684291054604, 4.67181314119755, 4.713316638492451, 4.728328541769329, 4.745106551314077, 4.754820135787352, 4.776896464135703, 4.778662570403571, 4.786610048608978, 4.7919083674125815, 4.831645758439615, 4.836061024109285, 4.844891555448625, 4.861669564993373, 4.87403230886845, 4.913769699895482, 4.93054770944023, 4.9349629751099, 4.944676559583175, 4.949091825252845, 4.999425853887087, 5.007373332092493, 5.020619129101504, 5.0391632449141195, 5.0391632449141195, 5.045344616851658, 5.0621226263964045, 5.07625147653935, 5.079783689075086, 5.081549795342954, 5.103626123691306, 5.10892444249491, 5.117754973834251, 5.1239363457717895, 5.130117717709328, 5.130117717709328, 5.142480461584404, 5.142480461584404, 5.157492364861284, 5.16102457739702, 5.163673736798822, 5.171621215004229, 5.188399224548976, 5.18928227768291, 5.18928227768291, 5.191931437084712, 5.19369754335258, 5.225487456174206, 5.2431485188528875, 5.290833388085327, 5.299663919424668, 5.301430025692536, 5.303196131960404, 5.313792769567613, 5.319974141505151, 5.328804672844492, 5.331453832246294, 5.379138701478733, 5.399448923559217, 5.4171099862378975, 5.441835473988052, 5.4488998990595245, 5.45243211159526, 5.4559643241309965, 5.4559643241309965, 5.459496536666733, 5.491286449488359, 5.499233927693766, 5.509830565300975, 5.522193309176052, 5.535439106185062, 5.568995125274557, 5.599018931828315, 5.6069664100337215, 5.644054641658952, 5.734126061320226, 5.79152451502594, 5.792407568159875, 5.816250002776094, 5.908970581839171, 5.939877441526863, 5.9734334606163575, 6.001691160902247, 6.049376030134686, 6.124435546519082, 6.141213556063829, 6.19154758469807, 6.292215641966553, 6.381404008493893, 6.38493622102963, 6.411427815047652, 6.442334674735344, 6.452931312342553, 6.457346578012223, 6.483838172030245, 6.505914500378597, 6.516511137985805, 6.533289147530552, 6.60658255764708, 6.671045436424266, 6.686057339701145, 6.807918672184046, 7.006605627319209, 7.05870576222132, 7.065770187292792, 7.138180544275385, 7.238848601543869, 7.281235151972704, 7.298013161517451, 7.320972542999737, 7.4322372378754284, 7.440184716080835, 7.4596118850273845, 7.464910203830989, 7.51524423246523, 7.856985795297713, 7.862284114101317, 7.969133543307338, 7.99120987165569, 8.007104828066502, 8.346197231497182, 8.444216129363864, 8.577557152587907, 8.695003219401137, 9.28046744719942, 9.299011563012035, 9.314023466288916, 9.472973030397046, 9.517125687093749, 9.714929589094979, 10.10877128682957, 10.442565371456647, 12.019698268662882, 12.434733241611891, 12.977810918981339, 13.139409642491273, 23.96652411765681, 30.250330218731595]\n"
     ]
    }
   ],
   "source": [
    "mean = np.mean(df_features['Population']) \n",
    "std = np.std(df_features['Population'])\n",
    "threshold = 3\n",
    "outliers = []\n",
    "for i in df_features['Population']:\n",
    "    z = (i - mean) / std\n",
    "    if z > threshold:\n",
    "        outliers.append(z)\n",
    "    \n",
    "outliers.sort()\n",
    "print(outliers)"
   ]
  },
  {
   "cell_type": "markdown",
   "id": "c868984f",
   "metadata": {},
   "source": [
    "##### zasada IQR"
   ]
  },
  {
   "cell_type": "code",
   "execution_count": 7,
   "id": "4983ece8",
   "metadata": {
    "ExecuteTime": {
     "end_time": "2022-05-12T13:41:11.694430Z",
     "start_time": "2022-05-12T13:41:11.679428Z"
    }
   },
   "outputs": [
    {
     "name": "stdout",
     "output_type": "stream",
     "text": [
      "IQR: 938.0 Upper limit: 3132.0 Lower limit: -620.0\n"
     ]
    }
   ],
   "source": [
    "quartile1 = np.quantile(df_features['Population'], 0.25)\n",
    "quartile3 = np.quantile(df_features['Population'], 0.75)\n",
    "median = np.median(df_features['Population'])\n",
    "iqr = quartile3 - quartile1\n",
    "upper_bound = quartile3 + (1.5 * iqr)\n",
    "lower_bound = quartile1 - (1.5 * iqr)\n",
    "print('IQR:', iqr, 'Upper limit:', upper_bound, 'Lower limit:', lower_bound)"
   ]
  },
  {
   "cell_type": "code",
   "execution_count": 8,
   "id": "21c8c0e4",
   "metadata": {
    "ExecuteTime": {
     "end_time": "2022-05-12T13:41:11.710429Z",
     "start_time": "2022-05-12T13:41:11.696430Z"
    }
   },
   "outputs": [
    {
     "data": {
      "text/plain": [
       "20640"
      ]
     },
     "execution_count": 8,
     "metadata": {},
     "output_type": "execute_result"
    }
   ],
   "source": [
    "len(df_features)"
   ]
  },
  {
   "cell_type": "markdown",
   "id": "9c6c311c",
   "metadata": {},
   "source": [
    "populacja nie może być mniejsza niż 0, więc nie musimy się przejmować dolnym limitem"
   ]
  },
  {
   "cell_type": "code",
   "execution_count": 9,
   "id": "e9a2f8ca",
   "metadata": {
    "ExecuteTime": {
     "end_time": "2022-05-12T13:41:11.742434Z",
     "start_time": "2022-05-12T13:41:11.712432Z"
    }
   },
   "outputs": [
    {
     "data": {
      "text/html": [
       "<div>\n",
       "<style scoped>\n",
       "    .dataframe tbody tr th:only-of-type {\n",
       "        vertical-align: middle;\n",
       "    }\n",
       "\n",
       "    .dataframe tbody tr th {\n",
       "        vertical-align: top;\n",
       "    }\n",
       "\n",
       "    .dataframe thead th {\n",
       "        text-align: right;\n",
       "    }\n",
       "</style>\n",
       "<table border=\"1\" class=\"dataframe\">\n",
       "  <thead>\n",
       "    <tr style=\"text-align: right;\">\n",
       "      <th></th>\n",
       "      <th>MedInc</th>\n",
       "      <th>HouseAge</th>\n",
       "      <th>AveRooms</th>\n",
       "      <th>AveBedrms</th>\n",
       "      <th>Population</th>\n",
       "      <th>AveOccup</th>\n",
       "      <th>Latitude</th>\n",
       "      <th>Longitude</th>\n",
       "    </tr>\n",
       "  </thead>\n",
       "  <tbody>\n",
       "    <tr>\n",
       "      <th>95</th>\n",
       "      <td>2.0096</td>\n",
       "      <td>36.0</td>\n",
       "      <td>2.294016</td>\n",
       "      <td>1.066294</td>\n",
       "      <td>3469.0</td>\n",
       "      <td>1.493328</td>\n",
       "      <td>37.80</td>\n",
       "      <td>-122.26</td>\n",
       "    </tr>\n",
       "    <tr>\n",
       "      <th>185</th>\n",
       "      <td>2.1917</td>\n",
       "      <td>43.0</td>\n",
       "      <td>4.844029</td>\n",
       "      <td>1.091795</td>\n",
       "      <td>4367.0</td>\n",
       "      <td>3.547522</td>\n",
       "      <td>37.79</td>\n",
       "      <td>-122.23</td>\n",
       "    </tr>\n",
       "    <tr>\n",
       "      <th>283</th>\n",
       "      <td>5.9849</td>\n",
       "      <td>22.0</td>\n",
       "      <td>6.528724</td>\n",
       "      <td>1.041179</td>\n",
       "      <td>4985.0</td>\n",
       "      <td>2.534316</td>\n",
       "      <td>37.79</td>\n",
       "      <td>-122.16</td>\n",
       "    </tr>\n",
       "    <tr>\n",
       "      <th>460</th>\n",
       "      <td>1.4012</td>\n",
       "      <td>52.0</td>\n",
       "      <td>3.105714</td>\n",
       "      <td>1.060000</td>\n",
       "      <td>3337.0</td>\n",
       "      <td>9.534286</td>\n",
       "      <td>37.87</td>\n",
       "      <td>-122.26</td>\n",
       "    </tr>\n",
       "    <tr>\n",
       "      <th>485</th>\n",
       "      <td>1.6307</td>\n",
       "      <td>35.0</td>\n",
       "      <td>2.962687</td>\n",
       "      <td>1.001148</td>\n",
       "      <td>3276.0</td>\n",
       "      <td>1.880597</td>\n",
       "      <td>37.86</td>\n",
       "      <td>-122.26</td>\n",
       "    </tr>\n",
       "    <tr>\n",
       "      <th>...</th>\n",
       "      <td>...</td>\n",
       "      <td>...</td>\n",
       "      <td>...</td>\n",
       "      <td>...</td>\n",
       "      <td>...</td>\n",
       "      <td>...</td>\n",
       "      <td>...</td>\n",
       "      <td>...</td>\n",
       "    </tr>\n",
       "    <tr>\n",
       "      <th>20543</th>\n",
       "      <td>1.7311</td>\n",
       "      <td>33.0</td>\n",
       "      <td>3.882852</td>\n",
       "      <td>1.029994</td>\n",
       "      <td>3717.0</td>\n",
       "      <td>2.103565</td>\n",
       "      <td>38.55</td>\n",
       "      <td>-121.74</td>\n",
       "    </tr>\n",
       "    <tr>\n",
       "      <th>20544</th>\n",
       "      <td>2.0650</td>\n",
       "      <td>23.0</td>\n",
       "      <td>4.803493</td>\n",
       "      <td>1.013646</td>\n",
       "      <td>6330.0</td>\n",
       "      <td>3.455240</td>\n",
       "      <td>38.55</td>\n",
       "      <td>-121.76</td>\n",
       "    </tr>\n",
       "    <tr>\n",
       "      <th>20563</th>\n",
       "      <td>3.1250</td>\n",
       "      <td>9.0</td>\n",
       "      <td>5.148007</td>\n",
       "      <td>1.119593</td>\n",
       "      <td>6837.0</td>\n",
       "      <td>2.899491</td>\n",
       "      <td>38.67</td>\n",
       "      <td>-121.75</td>\n",
       "    </tr>\n",
       "    <tr>\n",
       "      <th>20604</th>\n",
       "      <td>2.3496</td>\n",
       "      <td>17.0</td>\n",
       "      <td>4.551392</td>\n",
       "      <td>0.962527</td>\n",
       "      <td>3265.0</td>\n",
       "      <td>3.495717</td>\n",
       "      <td>39.12</td>\n",
       "      <td>-121.54</td>\n",
       "    </tr>\n",
       "    <tr>\n",
       "      <th>20629</th>\n",
       "      <td>2.0943</td>\n",
       "      <td>28.0</td>\n",
       "      <td>5.519802</td>\n",
       "      <td>1.020902</td>\n",
       "      <td>6912.0</td>\n",
       "      <td>3.801980</td>\n",
       "      <td>39.12</td>\n",
       "      <td>-121.39</td>\n",
       "    </tr>\n",
       "  </tbody>\n",
       "</table>\n",
       "<p>1196 rows × 8 columns</p>\n",
       "</div>"
      ],
      "text/plain": [
       "       MedInc  HouseAge  AveRooms  AveBedrms  Population  AveOccup  Latitude  \\\n",
       "95     2.0096      36.0  2.294016   1.066294      3469.0  1.493328     37.80   \n",
       "185    2.1917      43.0  4.844029   1.091795      4367.0  3.547522     37.79   \n",
       "283    5.9849      22.0  6.528724   1.041179      4985.0  2.534316     37.79   \n",
       "460    1.4012      52.0  3.105714   1.060000      3337.0  9.534286     37.87   \n",
       "485    1.6307      35.0  2.962687   1.001148      3276.0  1.880597     37.86   \n",
       "...       ...       ...       ...        ...         ...       ...       ...   \n",
       "20543  1.7311      33.0  3.882852   1.029994      3717.0  2.103565     38.55   \n",
       "20544  2.0650      23.0  4.803493   1.013646      6330.0  3.455240     38.55   \n",
       "20563  3.1250       9.0  5.148007   1.119593      6837.0  2.899491     38.67   \n",
       "20604  2.3496      17.0  4.551392   0.962527      3265.0  3.495717     39.12   \n",
       "20629  2.0943      28.0  5.519802   1.020902      6912.0  3.801980     39.12   \n",
       "\n",
       "       Longitude  \n",
       "95       -122.26  \n",
       "185      -122.23  \n",
       "283      -122.16  \n",
       "460      -122.26  \n",
       "485      -122.26  \n",
       "...          ...  \n",
       "20543    -121.74  \n",
       "20544    -121.76  \n",
       "20563    -121.75  \n",
       "20604    -121.54  \n",
       "20629    -121.39  \n",
       "\n",
       "[1196 rows x 8 columns]"
      ]
     },
     "execution_count": 9,
     "metadata": {},
     "output_type": "execute_result"
    }
   ],
   "source": [
    "outliers_df = df_features[df_features['Population'] > upper_bound]\n",
    "outliers_df"
   ]
  },
  {
   "cell_type": "markdown",
   "id": "cd69bd53",
   "metadata": {},
   "source": [
    "c) proces usunięcia tych danych"
   ]
  },
  {
   "cell_type": "markdown",
   "id": "5a695c06",
   "metadata": {},
   "source": [
    "Wartości oznaczonych jako odstające jest około 5.8%, czyli sporo. Należałoby się tutaj zastanowić, czy aby na pewno aż tak znaczna część powinna zostać usunięta"
   ]
  },
  {
   "cell_type": "code",
   "execution_count": 10,
   "id": "e267b7fb",
   "metadata": {
    "ExecuteTime": {
     "end_time": "2022-05-12T13:41:11.758432Z",
     "start_time": "2022-05-12T13:41:11.744430Z"
    }
   },
   "outputs": [
    {
     "data": {
      "text/html": [
       "<div>\n",
       "<style scoped>\n",
       "    .dataframe tbody tr th:only-of-type {\n",
       "        vertical-align: middle;\n",
       "    }\n",
       "\n",
       "    .dataframe tbody tr th {\n",
       "        vertical-align: top;\n",
       "    }\n",
       "\n",
       "    .dataframe thead th {\n",
       "        text-align: right;\n",
       "    }\n",
       "</style>\n",
       "<table border=\"1\" class=\"dataframe\">\n",
       "  <thead>\n",
       "    <tr style=\"text-align: right;\">\n",
       "      <th></th>\n",
       "      <th>MedInc</th>\n",
       "      <th>HouseAge</th>\n",
       "      <th>AveRooms</th>\n",
       "      <th>AveBedrms</th>\n",
       "      <th>Population</th>\n",
       "      <th>AveOccup</th>\n",
       "      <th>Latitude</th>\n",
       "      <th>Longitude</th>\n",
       "    </tr>\n",
       "  </thead>\n",
       "  <tbody>\n",
       "  </tbody>\n",
       "</table>\n",
       "</div>"
      ],
      "text/plain": [
       "Empty DataFrame\n",
       "Columns: [MedInc, HouseAge, AveRooms, AveBedrms, Population, AveOccup, Latitude, Longitude]\n",
       "Index: []"
      ]
     },
     "execution_count": 10,
     "metadata": {},
     "output_type": "execute_result"
    }
   ],
   "source": [
    "df_features_no_outliers = df_features.drop(outliers_df.index)\n",
    "df_features_no_outliers[df_features_no_outliers['Population'] > upper_bound]"
   ]
  }
 ],
 "metadata": {
  "kernelspec": {
   "display_name": "Python 3 (ipykernel)",
   "language": "python",
   "name": "python3"
  },
  "language_info": {
   "codemirror_mode": {
    "name": "ipython",
    "version": 3
   },
   "file_extension": ".py",
   "mimetype": "text/x-python",
   "name": "python",
   "nbconvert_exporter": "python",
   "pygments_lexer": "ipython3",
   "version": "3.9.7"
  }
 },
 "nbformat": 4,
 "nbformat_minor": 5
}
