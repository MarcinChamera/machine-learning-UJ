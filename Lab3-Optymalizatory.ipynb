{
 "cells": [
  {
   "cell_type": "code",
   "execution_count": 1,
   "id": "72b134d6",
   "metadata": {
    "ExecuteTime": {
     "end_time": "2022-05-12T13:45:03.634590Z",
     "start_time": "2022-05-12T13:45:03.028099Z"
    }
   },
   "outputs": [],
   "source": [
    "from sklearn.neural_network import MLPClassifier\n",
    "import sklearn.datasets as ds\n",
    "from sklearn.model_selection import train_test_split"
   ]
  },
  {
   "cell_type": "code",
   "execution_count": 2,
   "id": "4c322ce9",
   "metadata": {
    "ExecuteTime": {
     "end_time": "2022-05-12T13:45:03.649590Z",
     "start_time": "2022-05-12T13:45:03.635597Z"
    }
   },
   "outputs": [],
   "source": [
    "X, y = ds.load_iris(return_X_y=True)\n",
    "X_train, X_test, y_train, y_test = train_test_split(X, y, test_size=0.3)"
   ]
  },
  {
   "cell_type": "markdown",
   "id": "b2670fed",
   "metadata": {},
   "source": [
    "### Wymienione poniżej optymalizatory można znaleźć w implementacji wielowarstwowych perceptronów, zarówno dla regresji jak i klasyfikacji"
   ]
  },
  {
   "cell_type": "markdown",
   "id": "d7b2c486",
   "metadata": {},
   "source": [
    "- Adam\n",
    "\n",
    "Bezparametrowy"
   ]
  },
  {
   "cell_type": "code",
   "execution_count": 3,
   "id": "5517421b",
   "metadata": {
    "ExecuteTime": {
     "end_time": "2022-05-12T13:45:03.774590Z",
     "start_time": "2022-05-12T13:45:03.650591Z"
    }
   },
   "outputs": [
    {
     "name": "stderr",
     "output_type": "stream",
     "text": [
      "C:\\Users\\mcham\\anaconda3\\envs\\tf-gpu-280\\lib\\site-packages\\sklearn\\neural_network\\_multilayer_perceptron.py:692: ConvergenceWarning: Stochastic Optimizer: Maximum iterations (200) reached and the optimization hasn't converged yet.\n",
      "  warnings.warn(\n"
     ]
    },
    {
     "data": {
      "text/plain": [
       "0.9777777777777777"
      ]
     },
     "execution_count": 3,
     "metadata": {},
     "output_type": "execute_result"
    }
   ],
   "source": [
    "model_adam = MLPClassifier(solver='adam')\n",
    "model_adam.fit(X_train, y_train)\n",
    "model_adam.score(X_test, y_test)"
   ]
  },
  {
   "cell_type": "markdown",
   "id": "61413a80",
   "metadata": {},
   "source": [
    "- rmsprop - nie występuje w sklearn ani innych bibliotek nieprzeznaczonych głównie dla głębokiego uczenia (jak na przykład w Keras)"
   ]
  },
  {
   "cell_type": "markdown",
   "id": "0af6116b",
   "metadata": {
    "ExecuteTime": {
     "end_time": "2022-04-15T10:49:13.397420Z",
     "start_time": "2022-04-15T10:49:13.066407Z"
    }
   },
   "source": [
    "- sgdm - Stochastic Gradient Descent with Momentum\n",
    "\n",
    "pomaga odpowiednio ukierunkować wektory gradientowe, przez co szybciej osiągana jest zbieżność\n",
    "\n",
    "parametr momentum w MLPClassifier/MLPRegressor może zostać ustawiony pomiędzy 0 i 1"
   ]
  },
  {
   "cell_type": "code",
   "execution_count": 4,
   "id": "357bea5b",
   "metadata": {
    "ExecuteTime": {
     "end_time": "2022-05-12T13:45:03.881591Z",
     "start_time": "2022-05-12T13:45:03.776591Z"
    }
   },
   "outputs": [
    {
     "name": "stderr",
     "output_type": "stream",
     "text": [
      "C:\\Users\\mcham\\anaconda3\\envs\\tf-gpu-280\\lib\\site-packages\\sklearn\\neural_network\\_multilayer_perceptron.py:692: ConvergenceWarning: Stochastic Optimizer: Maximum iterations (200) reached and the optimization hasn't converged yet.\n",
      "  warnings.warn(\n"
     ]
    },
    {
     "data": {
      "text/plain": [
       "0.9777777777777777"
      ]
     },
     "execution_count": 4,
     "metadata": {},
     "output_type": "execute_result"
    }
   ],
   "source": [
    "model_sgdm = MLPClassifier(solver='sgd', momentum=0.9)\n",
    "model_sgdm.fit(X_train, y_train)\n",
    "model_sgdm.score(X_test, y_test)"
   ]
  }
 ],
 "metadata": {
  "kernelspec": {
   "display_name": "Python 3 (ipykernel)",
   "language": "python",
   "name": "python3"
  },
  "language_info": {
   "codemirror_mode": {
    "name": "ipython",
    "version": 3
   },
   "file_extension": ".py",
   "mimetype": "text/x-python",
   "name": "python",
   "nbconvert_exporter": "python",
   "pygments_lexer": "ipython3",
   "version": "3.9.7"
  }
 },
 "nbformat": 4,
 "nbformat_minor": 5
}
