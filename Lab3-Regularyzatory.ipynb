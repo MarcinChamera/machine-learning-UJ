{
 "cells": [
  {
   "cell_type": "code",
   "execution_count": 1,
   "id": "f4725f26",
   "metadata": {
    "ExecuteTime": {
     "end_time": "2022-05-12T13:47:22.895425Z",
     "start_time": "2022-05-12T13:47:21.975376Z"
    }
   },
   "outputs": [],
   "source": [
    "import pandas as pd\n",
    "import sklearn.datasets as ds\n",
    "import sklearn.linear_model\n",
    "import numpy as np\n",
    "from sklearn.model_selection import train_test_split\n",
    "from sklearn.preprocessing import MinMaxScaler\n",
    "from sklearn.metrics import mean_squared_error"
   ]
  },
  {
   "cell_type": "markdown",
   "id": "63b6ad3b",
   "metadata": {
    "ExecuteTime": {
     "end_time": "2022-04-15T09:54:13.912370Z",
     "start_time": "2022-04-15T09:54:13.908370Z"
    }
   },
   "source": [
    "### na przykładzie pojedynczego problemu regresji"
   ]
  },
  {
   "cell_type": "code",
   "execution_count": 2,
   "id": "d68656bb",
   "metadata": {
    "ExecuteTime": {
     "end_time": "2022-05-12T13:47:22.926567Z",
     "start_time": "2022-05-12T13:47:22.897426Z"
    }
   },
   "outputs": [],
   "source": [
    "diabetes_ds = ds.load_diabetes()\n",
    "X = pd.DataFrame(diabetes_ds.data, columns=diabetes_ds.feature_names)\n",
    "y = pd.DataFrame(diabetes_ds.target, columns=['target'])\n",
    "X_train, X_test, y_train, y_test = train_test_split(X, y, test_size=0.3)\n",
    "y_test = y_test['target'].tolist()"
   ]
  },
  {
   "cell_type": "code",
   "execution_count": 3,
   "id": "549a212a",
   "metadata": {
    "ExecuteTime": {
     "end_time": "2022-05-12T13:47:22.941568Z",
     "start_time": "2022-05-12T13:47:22.927568Z"
    }
   },
   "outputs": [
    {
     "name": "stdout",
     "output_type": "stream",
     "text": [
      "<class 'pandas.core.frame.DataFrame'>\n",
      "RangeIndex: 442 entries, 0 to 441\n",
      "Data columns (total 10 columns):\n",
      " #   Column  Non-Null Count  Dtype  \n",
      "---  ------  --------------  -----  \n",
      " 0   age     442 non-null    float64\n",
      " 1   sex     442 non-null    float64\n",
      " 2   bmi     442 non-null    float64\n",
      " 3   bp      442 non-null    float64\n",
      " 4   s1      442 non-null    float64\n",
      " 5   s2      442 non-null    float64\n",
      " 6   s3      442 non-null    float64\n",
      " 7   s4      442 non-null    float64\n",
      " 8   s5      442 non-null    float64\n",
      " 9   s6      442 non-null    float64\n",
      "dtypes: float64(10)\n",
      "memory usage: 34.7 KB\n"
     ]
    }
   ],
   "source": [
    "X.info()"
   ]
  },
  {
   "cell_type": "markdown",
   "id": "0b5f27fa",
   "metadata": {},
   "source": [
    "przed wykonaniem regularyzacji Ridge, dane muszą zostać przeskalowane"
   ]
  },
  {
   "cell_type": "code",
   "execution_count": 4,
   "id": "f2f5614e",
   "metadata": {
    "ExecuteTime": {
     "end_time": "2022-05-12T13:47:22.957293Z",
     "start_time": "2022-05-12T13:47:22.943568Z"
    }
   },
   "outputs": [],
   "source": [
    "X_train_nparray = np.asarray(X_train)\n",
    "scaler = MinMaxScaler().fit(X_train_nparray)\n",
    "X_train = scaler.transform(X_train_nparray)\n",
    "\n",
    "X_test_nparray = np.asarray(X_test)\n",
    "X_test = scaler.transform(X_test_nparray)"
   ]
  },
  {
   "cell_type": "code",
   "execution_count": 5,
   "id": "90046e1f",
   "metadata": {
    "ExecuteTime": {
     "end_time": "2022-05-12T13:47:22.973292Z",
     "start_time": "2022-05-12T13:47:22.958294Z"
    }
   },
   "outputs": [
    {
     "name": "stdout",
     "output_type": "stream",
     "text": [
      "[96.0, 118.0, 303.0, 88.0, 248.0, 53.0, 259.0, 77.0, 71.0, 225.0]\n",
      "[57.66994164941771, 92.5669147845039, 276.0305611420969, 105.12401147272506, 225.63813908748676, 132.05303916858986, 159.91857089976958, 78.21910562919085, 85.36430816760998, 174.77803259668298]\n"
     ]
    }
   ],
   "source": [
    "baseline = sklearn.linear_model.LinearRegression()\n",
    "baseline.fit(X_train, y_train)\n",
    "y_pred = baseline.predict(X_test)\n",
    "print(y_test[:10])\n",
    "print(y_pred.flatten().tolist()[:10])"
   ]
  },
  {
   "cell_type": "markdown",
   "id": "9e039d6b",
   "metadata": {},
   "source": [
    "regularyzatory dostępne w sklearn"
   ]
  },
  {
   "cell_type": "markdown",
   "id": "e0b89a0f",
   "metadata": {},
   "source": [
    "- Ridge regression - regularyzacja dodana do funkcji straty\n",
    "\n",
    "model Ridge z sklearn.linear_model to nałożenie na model LinearRegression regularyzacji Ridge (L2)"
   ]
  },
  {
   "cell_type": "code",
   "execution_count": 6,
   "id": "1b827a0b",
   "metadata": {
    "ExecuteTime": {
     "end_time": "2022-05-12T13:47:22.988294Z",
     "start_time": "2022-05-12T13:47:22.975294Z"
    }
   },
   "outputs": [
    {
     "name": "stdout",
     "output_type": "stream",
     "text": [
      "[96.0, 118.0, 303.0, 88.0, 248.0, 53.0, 259.0, 77.0, 71.0, 225.0]\n",
      "[61.392232892853556, 99.67174525631674, 270.25021561119365, 104.81779872821033, 223.58760511326727, 130.6807129617208, 159.99923964752713, 81.95813085635828, 88.10218993224152, 170.55005546792955]\n"
     ]
    }
   ],
   "source": [
    "ridge = sklearn.linear_model.Ridge()\n",
    "ridge.fit(X_train, y_train)\n",
    "y_pred = ridge.predict(X_test)\n",
    "print(y_test[:10])\n",
    "print(y_pred.flatten().tolist()[:10])"
   ]
  },
  {
   "cell_type": "markdown",
   "id": "06df2428",
   "metadata": {},
   "source": [
    "- Lasso regression - regularyzacja dodana do funkcji straty\n",
    "\n",
    "model Lasso to nałożenie regularyzacji Lasso (L1)"
   ]
  },
  {
   "cell_type": "code",
   "execution_count": 7,
   "id": "48e3dab0",
   "metadata": {
    "ExecuteTime": {
     "end_time": "2022-05-12T13:47:23.004294Z",
     "start_time": "2022-05-12T13:47:22.989295Z"
    }
   },
   "outputs": [
    {
     "name": "stdout",
     "output_type": "stream",
     "text": [
      "[96.0, 118.0, 303.0, 88.0, 248.0, 53.0, 259.0, 77.0, 71.0, 225.0]\n",
      "[ 75.4009677  108.999099   250.21134843 114.19457643 213.2431769\n",
      " 134.22980129 164.33825036  85.41521422  92.33061957 165.86335611]\n"
     ]
    }
   ],
   "source": [
    "lasso = sklearn.linear_model.Lasso()\n",
    "lasso.fit(X_train, y_train)\n",
    "y_pred = lasso.predict(X_test)\n",
    "print(y_test[:10])\n",
    "print(y_pred[:10])"
   ]
  },
  {
   "cell_type": "markdown",
   "id": "239d2960",
   "metadata": {},
   "source": [
    "- Elastic Net Regression\n",
    "\n",
    "model ElasticNet to nałożenie regularyzacji L1 i L2"
   ]
  },
  {
   "cell_type": "code",
   "execution_count": 8,
   "id": "ae5985ee",
   "metadata": {
    "ExecuteTime": {
     "end_time": "2022-05-12T13:47:23.019297Z",
     "start_time": "2022-05-12T13:47:23.006294Z"
    }
   },
   "outputs": [
    {
     "name": "stdout",
     "output_type": "stream",
     "text": [
      "[96.0, 118.0, 303.0, 88.0, 248.0, 53.0, 259.0, 77.0, 71.0, 225.0]\n",
      "[139.13497884 150.39187672 167.21055464 148.66127031 169.04126661\n",
      " 151.43837431 159.13612499 141.54313437 141.70321622 156.05494383]\n"
     ]
    }
   ],
   "source": [
    "elastic_net = sklearn.linear_model.ElasticNet(l1_ratio=0.5)\n",
    "elastic_net.fit(X_train, y_train)\n",
    "y_pred = elastic_net.predict(X_test)\n",
    "print(y_test[:10])\n",
    "print(y_pred[:10])"
   ]
  },
  {
   "cell_type": "markdown",
   "id": "ece1c22f",
   "metadata": {
    "ExecuteTime": {
     "end_time": "2022-04-15T10:13:19.129552Z",
     "start_time": "2022-04-15T10:13:19.112550Z"
    }
   },
   "source": [
    "### Early Stopping\n",
    "\n",
    "Modele SGDRegressor i SGDClassifier posiadają jako jeden z parametrów early_stopping. Poniżej dla przykładu regresji:"
   ]
  },
  {
   "cell_type": "markdown",
   "id": "8505252b",
   "metadata": {
    "ExecuteTime": {
     "end_time": "2022-04-15T10:36:57.633504Z",
     "start_time": "2022-04-15T10:36:57.626505Z"
    }
   },
   "source": [
    "- bez early stopping"
   ]
  },
  {
   "cell_type": "code",
   "execution_count": 9,
   "id": "9afb772e",
   "metadata": {
    "ExecuteTime": {
     "end_time": "2022-05-12T13:47:23.035298Z",
     "start_time": "2022-05-12T13:47:23.021295Z"
    }
   },
   "outputs": [
    {
     "name": "stdout",
     "output_type": "stream",
     "text": [
      "[96.0, 118.0, 303.0, 88.0, 248.0, 53.0, 259.0, 77.0, 71.0, 225.0]\n",
      "[59.95842096020769, 105.16754207277283, 267.93439171631013, 102.7044788382104, 229.00281785452398, 127.01735067431977, 162.21729140861794, 80.84332388849322, 84.20515996004775, 167.26194504669343]\n",
      "MSE: 3328.6432659264533\n"
     ]
    },
    {
     "name": "stderr",
     "output_type": "stream",
     "text": [
      "C:\\Users\\mcham\\anaconda3\\envs\\tf-gpu-280\\lib\\site-packages\\sklearn\\utils\\validation.py:993: DataConversionWarning: A column-vector y was passed when a 1d array was expected. Please change the shape of y to (n_samples, ), for example using ravel().\n",
      "  y = column_or_1d(y, warn=True)\n"
     ]
    }
   ],
   "source": [
    "sgd = sklearn.linear_model.SGDRegressor()\n",
    "sgd.fit(X_train, y_train)\n",
    "y_pred = sgd.predict(X_test)\n",
    "y_pred = y_pred.flatten().tolist()\n",
    "print(y_test[:10])\n",
    "print(y_pred[:10])\n",
    "print('MSE:', mean_squared_error(y_test, y_pred))"
   ]
  },
  {
   "cell_type": "markdown",
   "id": "95c46f12",
   "metadata": {},
   "source": [
    "- z early stopping"
   ]
  },
  {
   "cell_type": "code",
   "execution_count": 10,
   "id": "70c0d019",
   "metadata": {
    "ExecuteTime": {
     "end_time": "2022-05-12T13:47:23.050295Z",
     "start_time": "2022-05-12T13:47:23.038295Z"
    }
   },
   "outputs": [
    {
     "name": "stdout",
     "output_type": "stream",
     "text": [
      "[96.0, 118.0, 303.0, 88.0, 248.0, 53.0, 259.0, 77.0, 71.0, 225.0]\n",
      "[103.06537666494708, 149.12842845096367, 203.3680787213623, 136.85032696062112, 211.31317787251533, 146.86345388542676, 176.4090042157175, 105.62404967956331, 103.4343266315824, 161.80055250386815]\n",
      "MSE: 3934.5689143991117\n"
     ]
    },
    {
     "name": "stderr",
     "output_type": "stream",
     "text": [
      "C:\\Users\\mcham\\anaconda3\\envs\\tf-gpu-280\\lib\\site-packages\\sklearn\\utils\\validation.py:993: DataConversionWarning: A column-vector y was passed when a 1d array was expected. Please change the shape of y to (n_samples, ), for example using ravel().\n",
      "  y = column_or_1d(y, warn=True)\n"
     ]
    }
   ],
   "source": [
    "sgd = sklearn.linear_model.SGDRegressor(early_stopping=True)\n",
    "sgd.fit(X_train, y_train)\n",
    "y_pred = sgd.predict(X_test)\n",
    "y_pred = y_pred.flatten().tolist()\n",
    "print(y_test[:10])\n",
    "print(y_pred[:10])\n",
    "print('MSE:', mean_squared_error(y_test, y_pred))"
   ]
  }
 ],
 "metadata": {
  "kernelspec": {
   "display_name": "Python 3 (ipykernel)",
   "language": "python",
   "name": "python3"
  },
  "language_info": {
   "codemirror_mode": {
    "name": "ipython",
    "version": 3
   },
   "file_extension": ".py",
   "mimetype": "text/x-python",
   "name": "python",
   "nbconvert_exporter": "python",
   "pygments_lexer": "ipython3",
   "version": "3.9.7"
  }
 },
 "nbformat": 4,
 "nbformat_minor": 5
}
